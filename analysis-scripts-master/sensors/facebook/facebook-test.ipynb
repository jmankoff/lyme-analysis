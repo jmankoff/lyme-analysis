{
 "cells": [
  {
   "cell_type": "code",
   "execution_count": null,
   "metadata": {},
   "outputs": [],
   "source": [
    "%matplotlib inline\n",
    "import numpy as np\n",
    "import pandas as pd\n",
    "import os\n",
    "import copy\n",
    "import datetime\n",
    "import time\n",
    "import re\n",
    "import json\n",
    "import matplotlib.pyplot as plt\n",
    "import ast\n",
    "import pickle"
   ]
  },
  {
   "cell_type": "code",
   "execution_count": null,
   "metadata": {},
   "outputs": [],
   "source": [
    "path_to_fb_data_file = r\"C:\\Users\\orson\\Desktop\\Myself\\HCI\\UWiSchool\\Projects\\UWEXP\\Data\\UWEXPI_SampleData\\facebook\\uwexp_fbmedia.csv\"\n",
    "path_to_fb_user_file = r\"C:\\Users\\orson\\Desktop\\Myself\\HCI\\UWiSchool\\Projects\\UWEXP\\Data\\UWEXPI_SampleData\\facebook\\uwexp_fbperson.csv\"\n",
    "path_to_fb_merge_file = r\"C:\\Users\\orson\\Desktop\\Myself\\HCI\\UWiSchool\\Projects\\UWEXP\\Data\\UWEXPI_SampleData\\facebook\\uwexp_fb_merge.csv\""
   ]
  },
  {
   "cell_type": "code",
   "execution_count": null,
   "metadata": {},
   "outputs": [],
   "source": [
    "df_fb_data = pd.read_csv(path_to_fb_data_file)\n",
    "df_fb_data.drop(columns = [\"id\"], inplace = True)\n",
    "df_fb_data.drop_duplicates(inplace = True)\n",
    "df_fb_data.shape"
   ]
  },
  {
   "cell_type": "code",
   "execution_count": null,
   "metadata": {},
   "outputs": [],
   "source": [
    "df_fb_user = pd.read_csv(path_to_fb_user_file)\n",
    "df_fb_user.drop(columns = [\"crawl_id\", \"id\"], inplace = True)\n",
    "df_fb_user.drop_duplicates(inplace = True)\n",
    "df_fb_user.shape"
   ]
  },
  {
   "cell_type": "code",
   "execution_count": null,
   "metadata": {},
   "outputs": [],
   "source": [
    "df_fb_merge = df_fb_data.merge(df_fb_user, on = \"user_id\", how = \"left\")"
   ]
  },
  {
   "cell_type": "code",
   "execution_count": null,
   "metadata": {},
   "outputs": [],
   "source": [
    "df_fb_merge.to_csv(path_to_fb_merge_file)"
   ]
  },
  {
   "cell_type": "code",
   "execution_count": null,
   "metadata": {},
   "outputs": [],
   "source": [
    "df_fb_merge.shape"
   ]
  },
  {
   "cell_type": "code",
   "execution_count": null,
   "metadata": {},
   "outputs": [],
   "source": [
    "df_fb_merge[\"user_name\"].value_counts().to_csv(path_to_fb_merge_file[:-3] + \"txt\")"
   ]
  },
  {
   "cell_type": "code",
   "execution_count": null,
   "metadata": {},
   "outputs": [],
   "source": [
    "df_fb_merge[\"user_has_liked\"].value_counts()"
   ]
  },
  {
   "cell_type": "code",
   "execution_count": null,
   "metadata": {},
   "outputs": [],
   "source": []
  }
 ],
 "metadata": {
  "kernelspec": {
   "display_name": "Python 3",
   "language": "python",
   "name": "python3"
  },
  "language_info": {
   "codemirror_mode": {
    "name": "ipython",
    "version": 3
   },
   "file_extension": ".py",
   "mimetype": "text/x-python",
   "name": "python",
   "nbconvert_exporter": "python",
   "pygments_lexer": "ipython3",
   "version": "3.6.4"
  },
  "toc": {
   "base_numbering": 1,
   "nav_menu": {},
   "number_sections": true,
   "sideBar": true,
   "skip_h1_title": false,
   "title_cell": "Table of Contents",
   "title_sidebar": "Contents",
   "toc_cell": false,
   "toc_position": {},
   "toc_section_display": true,
   "toc_window_display": false
  }
 },
 "nbformat": 4,
 "nbformat_minor": 2
}
