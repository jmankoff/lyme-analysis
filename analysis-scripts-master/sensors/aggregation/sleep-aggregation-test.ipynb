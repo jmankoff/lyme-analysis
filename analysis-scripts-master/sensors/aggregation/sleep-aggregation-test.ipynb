{
 "cells": [
  {
   "cell_type": "code",
   "execution_count": 1,
   "metadata": {},
   "outputs": [],
   "source": [
    "import pandas as pd\n",
    "import os\n",
    "import datetime\n",
    "import numpy as np"
   ]
  },
  {
   "cell_type": "code",
   "execution_count": 2,
   "metadata": {},
   "outputs": [],
   "source": [
    "participant_file = '/Users/yasaman/UWEXP/script-input/sensors/participants.csv'\n",
    "fitbit_data_path = '/Users/yasaman/UWEXP/data/fitbit-dumps'\n",
    "data_types = {\"participantID\" : \"str\",\n",
    "              \"date\" : \"str\",\n",
    "              \"totalTimeInBed\" : \"int64\",\n",
    "              \"totalMinutesAsleep\" : \"int64\",\n",
    "              \"totalSleepRecords\" : \"int64\", \n",
    "              \"logid\" : str,\n",
    "              \"minutesToFallAsleep\" : str,\n",
    "              \"minutesAwake\" : str, \n",
    "              \"timeInBed\" : str, \n",
    "              \"minutesAsleep\" : str, \n",
    "              \"efficiency\" : str,\n",
    "              \"isMainSleep\" : str,\n",
    "              \"startTime\" : str, \n",
    "              \"duration\" : str, \n",
    "              \"minutesAfterWakeup\" : str}\n",
    "institution = 'UW'"
   ]
  },
  {
   "cell_type": "code",
   "execution_count": 3,
   "metadata": {},
   "outputs": [],
   "source": [
    "pids = pd.read_csv(participant_file, header = None, names = ['PID'])\n",
    "file_names = pids['PID'].apply(lambda x : 'PID{0:0>3}_sleep.csv'.format(x))"
   ]
  },
  {
   "cell_type": "code",
   "execution_count": 4,
   "metadata": {},
   "outputs": [],
   "source": [
    "def read_and_clean_sleep(path, name, types, institution):\n",
    "    full_path = '{}/{}'.format(path, name)\n",
    "    sleep = pd.read_csv(full_path, \n",
    "                        header = 0, \n",
    "                        dtype=types, \n",
    "                        parse_dates=['date', 'startTime'])\n",
    "    # NOTE when column types are not passed (illustrated below) pandas automatically take TRUE/FALSE as boolean \n",
    "    #      True/False when the type is passed as str, then 'True' and 'False' are the values.\n",
    "    # sleep = pd.read_csv(full_path, header = 0)\n",
    "    sleep = sleep[sleep['totalTimeInBed'] > 0]\n",
    "    sleep.rename(index=str, columns={'participantID': 'PID'}, inplace=True)\n",
    "    sleep['PID'] = name[3:6]\n",
    "    columns = ['institution']\n",
    "    columns.extend(list(sleep.columns))\n",
    "    sleep['institution'] = institution\n",
    "    sleep = sleep[columns]\n",
    "    return sleep"
   ]
  },
  {
   "cell_type": "code",
   "execution_count": 5,
   "metadata": {},
   "outputs": [
    {
     "name": "stdout",
     "output_type": "stream",
     "text": [
      "file PID017_sleep.csv does not exist\n",
      "file PID018_sleep.csv does not exist\n",
      "file PID071_sleep.csv does not exist\n",
      "file PID081_sleep.csv does not exist\n",
      "file PID083_sleep.csv does not exist\n",
      "file PID100_sleep.csv does not exist\n",
      "file PID105_sleep.csv does not exist\n",
      "file PID121_sleep.csv does not exist\n",
      "file PID133_sleep.csv does not exist\n",
      "file PID135_sleep.csv does not exist\n",
      "file PID147_sleep.csv does not exist\n",
      "file PID151_sleep.csv does not exist\n",
      "file PID152_sleep.csv does not exist\n",
      "file PID177_sleep.csv does not exist\n",
      "file PID182_sleep.csv does not exist\n",
      "file PID185_sleep.csv does not exist\n",
      "file PID187_sleep.csv does not exist\n",
      "file PID192_sleep.csv does not exist\n",
      "file PID200_sleep.csv does not exist\n",
      "file PID204_sleep.csv does not exist\n",
      "file PID207_sleep.csv does not exist\n"
     ]
    }
   ],
   "source": [
    "sleep_aggregated = []\n",
    "for name in file_names:\n",
    "    if name == 'PID007_sleep.csv':\n",
    "        name = 'PID007-2_sleep.csv'\n",
    "    if name == 'PID136_sleep.csv':\n",
    "        name = 'PID136-1_sleep.csv'   \n",
    "    if os.path.isfile('{}/{}'.format(fitbit_data_path, name)):\n",
    "        #print('appending data for {}'.format(name))\n",
    "        sleep = read_and_clean_sleep(fitbit_data_path, name, data_types, institution)\n",
    "        sleep_aggregated.append(sleep)\n",
    "        if name == 'PID136-1_sleep.csv':\n",
    "            name = 'PID136-2_sleep.csv'\n",
    "            #print('appending data for {}'.format(name))\n",
    "            sleep = read_and_clean_sleep(fitbit_data_path, name, data_types, institution)\n",
    "            sleep_aggregated.append(sleep)\n",
    "    else:\n",
    "        print('file {} does not exist'.format(name))"
   ]
  },
  {
   "cell_type": "code",
   "execution_count": 6,
   "metadata": {},
   "outputs": [],
   "source": [
    "sleep_aggregated_vertical = pd.concat(sleep_aggregated, axis=0)\n",
    "sleep_aggregated_vertical.to_csv('results/aggregated_vertical_sleep.csv', index=False)"
   ]
  },
  {
   "cell_type": "code",
   "execution_count": 7,
   "metadata": {},
   "outputs": [],
   "source": [
    "columns = list(sleep_aggregated_vertical.columns)\n",
    "info_columns = [\n",
    "    'institution',\n",
    "    'logid',\n",
    "    'isMainSleep'\n",
    "]\n",
    "total_columns = [\n",
    "    'totalTimeInBed', \n",
    "    'totalMinutesAsleep', \n",
    "    'totalSleepRecords'\n",
    "]\n",
    "record_columns = [\n",
    "    'minutesToFallAsleep', \n",
    "    'minutesAwake', \n",
    "    'timeInBed', \n",
    "    'minutesAsleep', \n",
    "    'efficiency',  \n",
    "    'startTime', \n",
    "    'duration', \n",
    "    'minutesAfterWakeup'\n",
    "]"
   ]
  },
  {
   "cell_type": "code",
   "execution_count": 8,
   "metadata": {},
   "outputs": [],
   "source": [
    "main_sleep = sleep_aggregated_vertical[sleep_aggregated_vertical['isMainSleep'] == 'True'][['PID', 'date'] + total_columns + record_columns]\n",
    "# NOTE I tested and there is no pid-date pair that has more than one main sleep record\n",
    "other_sleep = sleep_aggregated_vertical[sleep_aggregated_vertical['isMainSleep'] == 'False'][['PID', 'date'] + record_columns]\n",
    "#other_sleep.sort_values(by=['date', 'PID'])"
   ]
  },
  {
   "cell_type": "code",
   "execution_count": 9,
   "metadata": {},
   "outputs": [],
   "source": [
    "other_sleep['timestamp'] = other_sleep['startTime'].values.astype(np.int64)\n",
    "cols = list(other_sleep.columns)\n",
    "cols.remove('PID')\n",
    "cols.remove('date')\n",
    "cols.remove('startTime')\n",
    "other_sleep[cols] = other_sleep[cols].apply(pd.to_numeric)"
   ]
  },
  {
   "cell_type": "code",
   "execution_count": 10,
   "metadata": {},
   "outputs": [],
   "source": [
    "counts = other_sleep.groupby(by=['PID', 'date']).size()\n",
    "other_sleep = other_sleep.groupby(by=['PID', 'date']).mean()\n",
    "other_sleep['counts_other_sleep'] = counts\n",
    "other_sleep = other_sleep.reset_index()\n",
    "# NOTE I had to do this and later set the index to PID and date again to avoid having datetime type \n",
    "#      for date in other_sleep.\n",
    "other_sleep['timestamp'] = other_sleep['timestamp'].astype('int64')\n",
    "other_sleep['startTime'] = pd.to_datetime(other_sleep['timestamp'])\n",
    "other_sleep.drop(columns='timestamp', inplace=True)"
   ]
  },
  {
   "cell_type": "code",
   "execution_count": 11,
   "metadata": {},
   "outputs": [],
   "source": [
    "main_columns = {col: col+'_main' for col in record_columns}\n",
    "main_sleep.rename(index=str, columns=main_columns, inplace=True)\n",
    "main_sleep = main_sleep.set_index(['PID', 'date'])\n",
    "other_columns = {col: col+'_other_aggregated' for col in record_columns}\n",
    "other_sleep.rename(index=str, columns=other_columns, inplace=True)\n",
    "other_sleep = other_sleep.set_index(['PID', 'date'])"
   ]
  },
  {
   "cell_type": "code",
   "execution_count": 12,
   "metadata": {},
   "outputs": [],
   "source": [
    "sleep_aggregated_horizontal = pd.concat([main_sleep, other_sleep], axis=1).reset_index()\n",
    "sleep_aggregated_horizontal.to_csv('results/aggregated_horizontal_sleep.csv', index=False)"
   ]
  }
 ],
 "metadata": {
  "kernelspec": {
   "display_name": "Python 3",
   "language": "python",
   "name": "python3"
  },
  "language_info": {
   "codemirror_mode": {
    "name": "ipython",
    "version": 3
   },
   "file_extension": ".py",
   "mimetype": "text/x-python",
   "name": "python",
   "nbconvert_exporter": "python",
   "pygments_lexer": "ipython3",
   "version": "3.6.4"
  },
  "toc": {
   "base_numbering": 1,
   "nav_menu": {},
   "number_sections": true,
   "sideBar": true,
   "skip_h1_title": false,
   "title_cell": "Table of Contents",
   "title_sidebar": "Contents",
   "toc_cell": false,
   "toc_position": {},
   "toc_section_display": true,
   "toc_window_display": false
  }
 },
 "nbformat": 4,
 "nbformat_minor": 2
}
