{
 "cells": [
  {
   "cell_type": "code",
   "execution_count": 1,
   "metadata": {},
   "outputs": [],
   "source": [
    "import pandas as pd\n",
    "import os"
   ]
  },
  {
   "cell_type": "code",
   "execution_count": 2,
   "metadata": {},
   "outputs": [],
   "source": [
    "participant_file = '/Users/yasaman/UWEXP/script-input/sensors/participants.csv'\n",
    "fitbit_data_path = '/Users/yasaman/UWEXP/data/fitbit-dumps/'\n",
    "data_types = {\"participantID\" : \"str\",\n",
    "              \"date\" : \"str\",\n",
    "              \"steps\" : \"int64\"}\n",
    "institution = 'UW'"
   ]
  },
  {
   "cell_type": "code",
   "execution_count": 3,
   "metadata": {},
   "outputs": [],
   "source": [
    "pids = pd.read_csv(participant_file, header = None, names = ['PID'])\n",
    "file_names = pids['PID'].apply(lambda x : 'PID{0:0>3}_step_daily.csv'.format(x))"
   ]
  },
  {
   "cell_type": "code",
   "execution_count": 4,
   "metadata": {},
   "outputs": [],
   "source": [
    "def read_and_clean_step(path, name, types, institution):\n",
    "    full_path = '{}/{}'.format(path, name)\n",
    "    step = pd.read_csv(full_path, header = 0, dtype=types)\n",
    "    step['date'] = pd.to_datetime(step['date'])\n",
    "    step.rename(index=str, columns={'participantID': 'PID'}, inplace=True)\n",
    "    step['PID'] = name[3:6]\n",
    "    columns = ['institution']\n",
    "    columns.extend(list(step.columns))\n",
    "    step['institution'] = institution\n",
    "    step = step[columns]\n",
    "    return step"
   ]
  },
  {
   "cell_type": "code",
   "execution_count": 5,
   "metadata": {},
   "outputs": [
    {
     "name": "stdout",
     "output_type": "stream",
     "text": [
      "file PID017_step_daily.csv does not exist\n",
      "file PID018_step_daily.csv does not exist\n",
      "file PID071_step_daily.csv does not exist\n",
      "file PID081_step_daily.csv does not exist\n",
      "file PID083_step_daily.csv does not exist\n",
      "file PID100_step_daily.csv does not exist\n",
      "file PID105_step_daily.csv does not exist\n",
      "file PID121_step_daily.csv does not exist\n",
      "file PID133_step_daily.csv does not exist\n",
      "file PID135_step_daily.csv does not exist\n",
      "file PID147_step_daily.csv does not exist\n",
      "file PID151_step_daily.csv does not exist\n",
      "file PID152_step_daily.csv does not exist\n",
      "file PID177_step_daily.csv does not exist\n",
      "file PID182_step_daily.csv does not exist\n",
      "file PID185_step_daily.csv does not exist\n",
      "file PID187_step_daily.csv does not exist\n",
      "file PID192_step_daily.csv does not exist\n",
      "file PID197_step_daily.csv does not exist\n",
      "file PID200_step_daily.csv does not exist\n",
      "file PID204_step_daily.csv does not exist\n",
      "file PID207_step_daily.csv does not exist\n"
     ]
    }
   ],
   "source": [
    "step_aggregated = []\n",
    "for name in file_names:\n",
    "    if name == 'PID007_step_daily.csv':\n",
    "        name = 'PID007-2_step_daily.csv'\n",
    "    if name == 'PID136_step_daily.csv':\n",
    "        name = 'PID136-1_step_daily.csv'   \n",
    "    if os.path.isfile('{}/{}'.format(fitbit_data_path, name)):\n",
    "        #print('appending data for {}'.format(name))\n",
    "        step = read_and_clean_step(fitbit_data_path, name, data_types, institution)\n",
    "        if name == 'PID136-1_step_daily.csv':\n",
    "            name = 'PID136-2_step_daily.csv'\n",
    "            #print('appending data for {}'.format(name))\n",
    "            step_ = read_and_clean_step(fitbit_data_path, name, data_types, institution).set_index(['PID', 'date'])\n",
    "            cols = list(step.columns)\n",
    "            step = step.set_index(['PID', 'date'])\n",
    "            step['steps'] = step['steps'] + step_['steps']\n",
    "            step.reset_index(inplace=True)\n",
    "            step = step[cols]\n",
    "        step_aggregated.append(step)\n",
    "    else:\n",
    "        print('file {} does not exist'.format(name))"
   ]
  },
  {
   "cell_type": "code",
   "execution_count": 6,
   "metadata": {},
   "outputs": [],
   "source": [
    "step_aggregated = pd.concat(step_aggregated, axis=0)\n",
    "step_aggregated.to_csv('results/step_aggregated.csv', index=False)"
   ]
  }
 ],
 "metadata": {
  "kernelspec": {
   "display_name": "Python 3",
   "language": "python",
   "name": "python3"
  },
  "language_info": {
   "codemirror_mode": {
    "name": "ipython",
    "version": 3
   },
   "file_extension": ".py",
   "mimetype": "text/x-python",
   "name": "python",
   "nbconvert_exporter": "python",
   "pygments_lexer": "ipython3",
   "version": "3.6.4"
  },
  "toc": {
   "base_numbering": 1,
   "nav_menu": {},
   "number_sections": true,
   "sideBar": true,
   "skip_h1_title": false,
   "title_cell": "Table of Contents",
   "title_sidebar": "Contents",
   "toc_cell": false,
   "toc_position": {},
   "toc_section_display": true,
   "toc_window_display": false
  }
 },
 "nbformat": 4,
 "nbformat_minor": 2
}
