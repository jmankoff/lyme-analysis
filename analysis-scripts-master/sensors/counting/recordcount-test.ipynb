{
 "cells": [
  {
   "cell_type": "code",
   "execution_count": null,
   "metadata": {},
   "outputs": [],
   "source": [
    "import pandas as pd\n",
    "import json"
   ]
  },
  {
   "cell_type": "code",
   "execution_count": null,
   "metadata": {},
   "outputs": [],
   "source": [
    "data_path = '/Users/yasaman/UWEXP/data/deduplicated/device_f211138f-965d-4e13-8eac-fad1da955c8a'\n",
    "table = 'wifi'\n",
    "data_file = '{0}/{1}.txt'.format(data_path, table)\n",
    "print(data_file)\n",
    "column_type_file = '/Users/yasaman/UWEXP/cleanup-scripts/columns_type.json'"
   ]
  },
  {
   "cell_type": "code",
   "execution_count": null,
   "metadata": {},
   "outputs": [],
   "source": [
    "with open(column_type_file, 'r') as fileObj:\n",
    "    column_type = json.load(fileObj)\n",
    "types = column_type[table]"
   ]
  },
  {
   "cell_type": "code",
   "execution_count": null,
   "metadata": {},
   "outputs": [],
   "source": [
    "data = pd.read_csv(data_file,\n",
    "                   header=0,\n",
    "                   dtype=types,\n",
    "                   sep='\\t', \n",
    "                   lineterminator='\\n',\n",
    "                   encoding = \"ISO-8859-1\")\n",
    "data.head(10)"
   ]
  },
  {
   "cell_type": "code",
   "execution_count": null,
   "metadata": {},
   "outputs": [],
   "source": [
    "data['date_'] = pd.to_datetime(data['timestamp'], unit='ms', origin='unix').dt.date\n",
    "data.head(10)"
   ]
  },
  {
   "cell_type": "code",
   "execution_count": null,
   "metadata": {},
   "outputs": [],
   "source": [
    "data = data.groupby(by='date_').count().reset_index()[['date_', 'timestamp']]\n",
    "data.rename(index=str, columns={'timestamp':'record_num'}, inplace=True)\n",
    "data.head()"
   ]
  },
  {
   "cell_type": "code",
   "execution_count": null,
   "metadata": {},
   "outputs": [],
   "source": [
    "result_path = '/Users/yasaman/UWEXP/data/counts/device_f211138f-965d-4e13-8eac-fad1da955c8a'\n",
    "result_file = '{0}/{1}.txt'.format(result_path, table)\n",
    "#result_file = '/Users/yasaman/Downloads/test.txt'"
   ]
  },
  {
   "cell_type": "code",
   "execution_count": null,
   "metadata": {},
   "outputs": [],
   "source": [
    "data.to_csv(result_file, \n",
    "            index=False, \n",
    "            sep='\\t', \n",
    "            line_terminator='\\n',\n",
    "            encoding = \"ISO-8859-1\",\n",
    "            mode='w')"
   ]
  },
  {
   "cell_type": "code",
   "execution_count": null,
   "metadata": {},
   "outputs": [],
   "source": []
  }
 ],
 "metadata": {
  "kernelspec": {
   "display_name": "Python 3",
   "language": "python",
   "name": "python3"
  },
  "language_info": {
   "codemirror_mode": {
    "name": "ipython",
    "version": 3
   },
   "file_extension": ".py",
   "mimetype": "text/x-python",
   "name": "python",
   "nbconvert_exporter": "python",
   "pygments_lexer": "ipython3",
   "version": "3.6.4"
  }
 },
 "nbformat": 4,
 "nbformat_minor": 2
}
