{
 "cells": [
  {
   "cell_type": "code",
   "execution_count": 1,
   "metadata": {},
   "outputs": [],
   "source": [
    "import sys\n",
    "sys.path.append('/Users/yasaman/UWEXP/cleanup-scripts')\n",
    "from jobutils import utils\n",
    "import pandas as pd\n",
    "import matplotlib.pyplot as plt\n",
    "import seaborn as sns"
   ]
  },
  {
   "cell_type": "code",
   "execution_count": 2,
   "metadata": {},
   "outputs": [],
   "source": [
    "data_path = '/Users/yasaman/Downloads/aggregatedcounts/180228'\n",
    "table_file = '/Users/yasaman/UWEXP/script-input/tables.csv'\n",
    "result_path = '/Users/yasaman/Downloads/aggregatedcounts/180228/figures'"
   ]
  },
  {
   "cell_type": "code",
   "execution_count": 3,
   "metadata": {},
   "outputs": [],
   "source": [
    "tables = utils.readList(table_file)"
   ]
  },
  {
   "cell_type": "code",
   "execution_count": 4,
   "metadata": {},
   "outputs": [],
   "source": [
    "def load_data(data_file):\n",
    "    data = pd.read_csv(data_file,\n",
    "                       header=0,\n",
    "                       index_col=0,\n",
    "                       sep='\\t', \n",
    "                       lineterminator='\\n',\n",
    "                       encoding = \"ISO-8859-1\")\n",
    "    return data\n",
    "\n",
    "def plot_data(data, table, xticklabels, yticklabels, width=None, height=None):\n",
    "    if width is None or height is None:\n",
    "        fig, ax = plt.subplots()\n",
    "    else:\n",
    "        fig, ax = plt.subplots(figsize=(width, height))\n",
    "    sns.heatmap(data.transpose().isnull(), \n",
    "                cbar=False,\n",
    "                xticklabels=xticklabels,\n",
    "                yticklabels=yticklabels,\n",
    "                ax=ax)\n",
    "    ax.set_title('data availability (black cells) for {}'.format(table))\n",
    "    return fig, ax\n",
    "\n",
    "def store_plot(result_file, figure):\n",
    "    figure.tight_layout()\n",
    "    figure.savefig(result_file)\n",
    "    plt.close(figure)"
   ]
  },
  {
   "cell_type": "code",
   "execution_count": 5,
   "metadata": {},
   "outputs": [],
   "source": [
    "for table in tables:\n",
    "    data_file = '{0}/{1}.txt'.format(data_path, table)\n",
    "    data = load_data(data_file)\n",
    "    \n",
    "    fig, ax = plot_data(data, table, 'auto', 'auto', None, None)\n",
    "    result_file = '{0}/highlevel/{1}_highlevel.png'.format(result_path, table)\n",
    "    store_plot(result_file, fig)\n",
    "    \n",
    "    fig, ax = plot_data(data, table, list(data.index.values), list(data.columns.values), 40, 30)\n",
    "    result_file = '{0}/detailed/{1}_detailed.png'.format(result_path, table)\n",
    "    store_plot(result_file, fig)"
   ]
  },
  {
   "cell_type": "code",
   "execution_count": null,
   "metadata": {},
   "outputs": [],
   "source": []
  }
 ],
 "metadata": {
  "kernelspec": {
   "display_name": "Python 3",
   "language": "python",
   "name": "python3"
  },
  "language_info": {
   "codemirror_mode": {
    "name": "ipython",
    "version": 3
   },
   "file_extension": ".py",
   "mimetype": "text/x-python",
   "name": "python",
   "nbconvert_exporter": "python",
   "pygments_lexer": "ipython3",
   "version": "3.6.4"
  }
 },
 "nbformat": 4,
 "nbformat_minor": 2
}
