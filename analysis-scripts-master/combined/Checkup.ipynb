{
 "cells": [
  {
   "cell_type": "code",
   "execution_count": 1,
   "metadata": {},
   "outputs": [],
   "source": [
    "import pandas as pd\n",
    "import numpy as np\n",
    "import matplotlib.pyplot as plt\n",
    "import seaborn as sns"
   ]
  },
  {
   "cell_type": "code",
   "execution_count": 2,
   "metadata": {},
   "outputs": [],
   "source": [
    "data_file = '/Users/yasaman/UWEXP/analysis-scripts/combined/data/bigtable.csv'"
   ]
  },
  {
   "cell_type": "code",
   "execution_count": 3,
   "metadata": {},
   "outputs": [
    {
     "name": "stderr",
     "output_type": "stream",
     "text": [
      "/anaconda3/lib/python3.6/site-packages/IPython/core/interactiveshell.py:2728: DtypeWarning: Columns (462,463,464,465,466,502,503,504,505,506,620) have mixed types. Specify dtype option on import or set low_memory=False.\n",
      "  interactivity=interactivity, compiler=compiler, result=result)\n"
     ]
    }
   ],
   "source": [
    "data = pd.read_csv(data_file, na_values = [' '])\n",
    "# NOTES\n",
    "# complians that columns 462,463,464,465,466,502,503,504,505,506,620 have mixed types. These are:\n",
    "#   screen_first_on_for_grpbyday_allday\n",
    "#   screen_first_on_for_grpbyday_morning\n",
    "#   screen_first_on_for_grpbyday_afternoon\n",
    "#   screen_first_on_for_grpbyday_evening\n",
    "#   screen_first_on_for_grpbyday_night\n",
    "#   screen_last_on_for_grpbyday_allday\n",
    "#   screen_last_on_for_grpbyday_morning\n",
    "#   screen_last_on_for_grpbyday_afternoon\n",
    "#   screen_last_on_for_grpbyday_evening\n",
    "#   screen_last_on_for_grpbyday_night\n",
    "#   UsualLang_B1\n",
    "# this is because the nan values under these columns are considered as float whereas the other values are string\n",
    "# also there is both ID and PID column in the table now which are the same across all rows"
   ]
  },
  {
   "cell_type": "code",
   "execution_count": null,
   "metadata": {},
   "outputs": [],
   "source": [
    "columns = list(data.columns)\n",
    "print(columns, end = ', ')"
   ]
  },
  {
   "cell_type": "code",
   "execution_count": 4,
   "metadata": {},
   "outputs": [],
   "source": [
    "columns_drop = ['applications_most_common_category_allday', 'applications_most_common_category_morning', \n",
    "                'applications_most_common_category_afternoon', 'applications_most_common_category_evening', \n",
    "                'applications_most_common_category_night', 'applications_most_common_app_allday', \n",
    "                'applications_most_common_app_morning', 'applications_most_common_app_afternoon', \n",
    "                'applications_most_common_app_evening', 'applications_most_common_app_night', \n",
    "                'applications_number_of_unique_apps_allday', 'applications_number_of_unique_apps_morning', \n",
    "                'applications_number_of_unique_apps_afternoon', 'applications_number_of_unique_apps_evening', \n",
    "                'applications_number_of_unique_apps_night', 'applications_apps_per_minute_allday', \n",
    "                'applications_apps_per_minute_morning', 'applications_apps_per_minute_afternoon', \n",
    "                'applications_apps_per_minute_evening', 'applications_apps_per_minute_night', \n",
    "                'audio_percentage_silence_total_with_unknown_allday', \n",
    "                'audio_percentage_silence_total_with_unknown_morning', \n",
    "                'audio_percentage_silence_total_with_unknown_afternoon', \n",
    "                'audio_percentage_silence_total_with_unknown_evening', \n",
    "                'audio_percentage_silence_total_with_unknown_night', 'audio_percentage_voice_total_allday', \n",
    "                'audio_percentage_voice_total_morning', 'audio_percentage_voice_total_afternoon', \n",
    "                'audio_percentage_voice_total_evening', 'audio_percentage_voice_total_night', \n",
    "                'audio_mean_voice_energy_allday', 'audio_mean_voice_energy_morning', \n",
    "                'audio_mean_voice_energy_afternoon', 'audio_mean_voice_energy_evening', \n",
    "                'audio_mean_voice_energy_night', 'audio_number_samples_conversations_allday', \n",
    "                'audio_number_samples_conversations_morning', 'audio_number_samples_conversations_afternoon', \n",
    "                'audio_number_samples_conversations_evening', 'audio_number_samples_conversations_night', \n",
    "                'audio_min_noise_energy_allday', 'audio_min_noise_energy_morning', 'audio_min_noise_energy_afternoon',\n",
    "                'audio_min_noise_energy_evening', 'audio_min_noise_energy_night', 'audio_max_noise_energy_allday', \n",
    "                'audio_max_noise_energy_morning', 'audio_max_noise_energy_afternoon', 'audio_max_noise_energy_evening',\n",
    "                'audio_max_noise_energy_night', 'audio_percentage_noise_total_allday', \n",
    "                'audio_percentage_noise_total_morning', 'audio_percentage_noise_total_afternoon', \n",
    "                'audio_percentage_noise_total_evening', 'audio_percentage_noise_total_night', \n",
    "                'audio_percentage_voice_total_with_unknown_allday', \n",
    "                'audio_percentage_voice_total_with_unknown_morning', \n",
    "                'audio_percentage_voice_total_with_unknown_afternoon', \n",
    "                'audio_percentage_voice_total_with_unknown_evening', 'audio_percentage_voice_total_with_unknown_night',\n",
    "                'audio_std_voice_energy_allday', 'audio_std_voice_energy_morning', 'audio_std_voice_energy_afternoon',\n",
    "                'audio_std_voice_energy_evening', 'audio_std_voice_energy_night', \n",
    "                'audio_percentage_noise_total_with_unknown_allday', \n",
    "                'audio_percentage_noise_total_with_unknown_morning', \n",
    "                'audio_percentage_noise_total_with_unknown_afternoon', \n",
    "                'audio_percentage_noise_total_with_unknown_evening', 'audio_percentage_noise_total_with_unknown_night',\n",
    "                'audio_std_noise_energy_allday', 'audio_std_noise_energy_morning', 'audio_std_noise_energy_afternoon', \n",
    "                'audio_std_noise_energy_evening', 'audio_std_noise_energy_night', 'audio_mean_noise_energy_allday', \n",
    "                'audio_mean_noise_energy_morning', 'audio_mean_noise_energy_afternoon', \n",
    "                'audio_mean_noise_energy_evening', 'audio_mean_noise_energy_night', 'audio_max_voice_energy_allday', \n",
    "                'audio_max_voice_energy_morning', 'audio_max_voice_energy_afternoon', 'audio_max_voice_energy_evening',\n",
    "                'audio_max_voice_energy_night', 'audio_min_voice_energy_allday', 'audio_min_voice_energy_morning', \n",
    "                'audio_min_voice_energy_afternoon', 'audio_min_voice_energy_evening', 'audio_min_voice_energy_night', \n",
    "                'audio_percentage_silence_total_allday', 'audio_percentage_silence_total_morning', \n",
    "                'audio_percentage_silence_total_afternoon', 'audio_percentage_silence_total_evening', \n",
    "                'audio_percentage_silence_total_night', 'audio_number_of_conversations_allday', \n",
    "                'audio_number_of_conversations_morning', 'audio_number_of_conversations_afternoon', \n",
    "                'audio_number_of_conversations_evening', 'audio_number_of_conversations_night', \n",
    "                'audio_length_of_conversations_seconds_allday', 'audio_length_of_conversations_seconds_morning', \n",
    "                'audio_length_of_conversations_seconds_afternoon', 'audio_length_of_conversations_seconds_evening', \n",
    "                'audio_length_of_conversations_seconds_night', 'unfair_national_EMAtot', 'unfair_gender_EMAtot', \n",
    "                'unfair_orientation_EMAtot', 'unfair_intelligence_EMAtot', 'unfair_major_EMAtot', \n",
    "                'unfair_learning_EMAtot', 'unfair_income_EMAtot', 'unfair_age_EMAtot', 'unfair_religion_EMAtot', \n",
    "                'unfair_disability_EMAtot', 'unfair_height_EMAtot', 'unfair_weight_EMAtot', \n",
    "                'unfair_appearance_EMAtot', 'total_EMAtot', 'Age_CMUII_B1', 'Handedness_CMUII_B1', \n",
    "                'US_born_CMUII_B1', 'US_Citizen_CMUII_B1', 'US_years_CMUII_B1', 'Language_CMUII_B1', \n",
    "                'Race_Caucasian_CMUII_B1', 'Race_AfricanAmerican_CMUII_B1', 'Race_Latinx_CMUII_B1', \n",
    "                'Race_EastAsian_CMUII_B1', 'Race_SouthAsian_CMUII_B1', 'Race_Pacific_CMUII_B1', \n",
    "                'Race_NativeAmerican_CMUII_B1', 'Generation_CMUII_B1', 'Relationship_CMUII_B1', \n",
    "                'College_Engineering_CMUII_B1', 'College_AS_CMUII_B1', 'College_Social_CMUII_B1', \n",
    "                'College_Information_CMUII_B1', 'College_Science_CMUII_B1', 'College_ComputerScience_CMUII_B1', \n",
    "                'College_Business_CMUII_B1', 'LOC_CMUII_B1', 'Gender_MFO_CMUII_B1', 'ParentFirstGen_CMUII_B1', \n",
    "                'Minority_CMUII_B1', 'URM_CMUII_B1', 'MYU_Stressful_1_CMUII_B2', 'LOC_CMUII_B2', \n",
    "                'CES_D_CMUII_B2', 'ISEL_APPRAISEL_CMUII_B2', 'ISEL_BELONGING_CMUII_B2', 'ISEL_TANGIBLE_CMUII_B2', \n",
    "                'UCLA_Loneliness_CMUII_B2', 'MLE_CMUII_B2', 'MLE_CLASS_CMUII_B2', 'MLE_RELATE_CMUII_B2', \n",
    "                'MLE_ILL_CMUII_B2', 'MLE_LEGAL_FINANCIAL_CMUII_B2', 'MLE_LIVING_CMUII_B2', 'MLE_ASSAULT_CMUII_B2', \n",
    "                'MLE_GENDER_VIOLENCE_CMUII_B2', 'PSS_CMUII_B2', 'MYU_Stressful_1_CMUII_POST', 'LOC_CMUII_POST', \n",
    "                'CES_D_CMUII_POST', 'ISEL_APPRAISEL_CMUII_POST', 'ISEL_BELONGING_CMUII_POST', \n",
    "                'ISEL_TANGIBLE_CMUII_POST', 'UCLA_Loneliness_CMUII_POST', 'MLE_CLASS_CMUII_POST', \n",
    "                'MLE_RELATE_CMUII_POST', 'MLE_ILL_CMUII_POST', 'MLE_LEGAL_FINANCIAL_CMUII_POST', \n",
    "                'MLE_LIVING_CMUII_POST', 'MLE_ASSAULT_CMUII_POST', 'MLE_GENDER_VIOLENCE_CMUII_POST', \n",
    "                'PSS_CMUII_POST', 'TOTAL_ASSAULT_ALL', 'ASSAULT_PRE_ALL', 'ASSAULT_POST_ALL', \n",
    "                'TOTAL_GENDER_VIOLENCE_ALL', 'GENDER_VIOLENCE_PRE_ALL', 'GENDER_VIOLENCE_POST_ALL', \n",
    "                'Gender_MYU_ALL', 'URM_MYU_ALL', 'Minority_MYU_ALL', 'FirstGen_MYU_ALL', 'MinorityFirstGen_MYU_ALL', \n",
    "                'Relationship_MYU_ALL', 'PSS_PRE_ALL', 'PSS_POST_ALL', 'CES_D_PRE_ALL', 'CES_D_POST_ALL', \n",
    "                'BDI_POST_ALL', 'BDI_Suicidality_PRE_ALL', 'BDI_Suicidality_POST_ALL', 'ISEL_APPRAISEL_PRE_ALL_ALL', \n",
    "                'ISEL_APPRAISEL_POST_ALL_ALL', 'ISEL_BELONGING_PRE_ALL_ALL', 'ISEL_BELONGING_POST_ALL_ALL', \n",
    "                'ISEL_TANGIBLE_PRE_ALL_ALL', 'ISEL_TANGIBLE_POST_ALL_ALL', 'UCLA_Loneliness_PRE_ALL', \n",
    "                'UCLA_Loneliness_POST_ALL', 'College_Engineering_MYU_ALL', 'College_AS_MYU_ALL', \n",
    "                'College_Business_MYU_ALL', 'MYU_STRESS_POST_ALL', 'MYU_STRESS_PRE_ALL', 'DISC_ALL']"
   ]
  },
  {
   "cell_type": "code",
   "execution_count": 5,
   "metadata": {},
   "outputs": [],
   "source": [
    "data = data.drop(columns=columns_drop)\n",
    "#data.dtypes"
   ]
  },
  {
   "cell_type": "code",
   "execution_count": null,
   "metadata": {},
   "outputs": [],
   "source": [
    "def type_mismatch(data, col, type_):\n",
    "    vals = data[col].unique()\n",
    "    cases = {val : type(val) for val in vals if isinstance(val, type_) == False}\n",
    "    return cases"
   ]
  },
  {
   "cell_type": "code",
   "execution_count": null,
   "metadata": {},
   "outputs": [],
   "source": [
    "columns_iloc = [462, 463, 464, 465, 466, 502, 503, 504, 505, 506, 620]\n",
    "expected_type = [str, str, str, str, str, str, str, str, str, str, str]\n",
    "for ind, icol in enumerate(columns_iloc):\n",
    "    col = columns[icol]\n",
    "    type_ = expected_type[ind]\n",
    "    print('evaluation values in column {} against type {}'.format(col, type_))\n",
    "    mismatch = type_mismatch(data, col, type_)\n",
    "    print('   mismatches:', mismatch)"
   ]
  },
  {
   "cell_type": "code",
   "execution_count": null,
   "metadata": {},
   "outputs": [],
   "source": [
    "data_missing_percent = data.isnull().sum()/data.shape[0] * 100"
   ]
  },
  {
   "cell_type": "code",
   "execution_count": null,
   "metadata": {},
   "outputs": [],
   "source": [
    "data_missing_percent.to_csv('/Users/yasaman/UWEXP/analysis-scripts/combined/results/missing_percent.csv')"
   ]
  },
  {
   "cell_type": "code",
   "execution_count": null,
   "metadata": {},
   "outputs": [],
   "source": [
    "data.to_csv('/Users/yasaman/UWEXP/analysis-scripts/combined/results/bigtable_UWonly.csv', index=False)"
   ]
  },
  {
   "cell_type": "code",
   "execution_count": null,
   "metadata": {},
   "outputs": [],
   "source": [
    "data_file = '/Users/yasaman/UWEXP/analysis-scripts/surveys/results/emaaggregation/aggregated-horizontal-numVal-internalID.csv'\n",
    "data = pd.read_csv(data_file)\n",
    "# NOTE there is a wearning that column 37 has mixed types. columns 37 is 'discriminated' column and \n",
    "# the warning is because the empty cells are considered nan as type float64 whereas non-empty cells\n",
    "# are 'YES' or 'NO' with type str. So, it's not something to worry about.\n",
    "encounters = data[data['discriminated'] == 'YES'].groupby(by=['date']).size()\n",
    "people = data[data['discriminated'] == 'YES'].groupby(by=['PID']).size()"
   ]
  },
  {
   "cell_type": "code",
   "execution_count": null,
   "metadata": {},
   "outputs": [],
   "source": [
    "print('min: ', encounters.min())\n",
    "print('max: ', encounters.max())\n",
    "print('mean: ', encounters.mean())"
   ]
  },
  {
   "cell_type": "code",
   "execution_count": null,
   "metadata": {},
   "outputs": [],
   "source": [
    "print('min: ', people.min())\n",
    "print('max: ', people.max())\n",
    "print('mean: ', people.mean())"
   ]
  },
  {
   "cell_type": "code",
   "execution_count": null,
   "metadata": {},
   "outputs": [],
   "source": [
    "people.plot.bar()\n",
    "plt.show()"
   ]
  },
  {
   "cell_type": "code",
   "execution_count": null,
   "metadata": {},
   "outputs": [],
   "source": [
    "data['discriminated'].unique()"
   ]
  },
  {
   "cell_type": "code",
   "execution_count": null,
   "metadata": {},
   "outputs": [],
   "source": [
    "people_h = list(people.index)"
   ]
  },
  {
   "cell_type": "code",
   "execution_count": null,
   "metadata": {},
   "outputs": [],
   "source": [
    "data_file = '/Users/yasaman/UWEXP/analysis-scripts/surveys/results/emaprep/all-numVal-internalID_cleaned_DISC_SUBS_withmutltisub.csv'\n",
    "data = pd.read_csv(data_file)"
   ]
  },
  {
   "cell_type": "code",
   "execution_count": null,
   "metadata": {},
   "outputs": [],
   "source": [
    "people_v = list(data[data['discriminated'] == 'YES']['pid'].unique())"
   ]
  },
  {
   "cell_type": "code",
   "execution_count": null,
   "metadata": {},
   "outputs": [],
   "source": [
    "print('people who appear in either vertical or horizontal aggregation but not both:', set(people_v) ^ set(people_h))\n",
    "# tested with\n",
    "#    df1 = pd.DataFrame({'A': [1, 2, None, 3, 5], 'B': [9, 10, 8, 3, 4]})\n",
    "#    df2 = pd.DataFrame({'A': [None, 2, 3, -1, None], 'C': ['a', None, None, 'b', 'c']})\n",
    "# looking at the following\n",
    "#    df1.combine_first(df2)\n",
    "#    df2.combine_first(df1)\n",
    "# things are different both because of multi-repors remove (PID028; awaits confirmation) and the order weekly\n",
    "# and evening surveys are processed in horizontal aggregation (PID074, PID113, PID190). Note that both weekly\n",
    "# and daily (evening) surveys ask about experiences on Mar 06 and Apr 24 when the discrepancy is observed. these\n",
    "# people have reported discrimiantion on daily suryvey but not the weekly one."
   ]
  },
  {
   "cell_type": "code",
   "execution_count": null,
   "metadata": {},
   "outputs": [],
   "source": [
    "df1 = pd.DataFrame({'A': [1, 2, None, 3, 5], 'B': [9, 10, 8, 3, 4]})\n",
    "df2 = pd.DataFrame({'A': [None, 2, 3, -1, None], 'C': ['a', None, None, 'b', 'c']})"
   ]
  },
  {
   "cell_type": "code",
   "execution_count": null,
   "metadata": {},
   "outputs": [],
   "source": [
    "df1"
   ]
  },
  {
   "cell_type": "code",
   "execution_count": null,
   "metadata": {},
   "outputs": [],
   "source": [
    "df2"
   ]
  },
  {
   "cell_type": "code",
   "execution_count": null,
   "metadata": {},
   "outputs": [],
   "source": [
    "df1.combine_first(df2)"
   ]
  },
  {
   "cell_type": "code",
   "execution_count": null,
   "metadata": {},
   "outputs": [],
   "source": [
    "df2.combine_first(df1)"
   ]
  },
  {
   "cell_type": "code",
   "execution_count": null,
   "metadata": {},
   "outputs": [],
   "source": [
    "correlation_columns = ['PID', 'QualtricsSF12Physical_POST', 'QualtricsSF12Mental_POST', 'QualtricsGMM_POST', \n",
    "                       'QualtricsKPSS_POST', 'QualtricsBDIII_POST', 'QualtricsKISEL12_POST', 'QualtricsCHIPS_POST', \n",
    "                       'QualtricsSTAI_POST', 'QualtricsERQReappraisal_POST', 'QualtricsERQSuppression_POST', \n",
    "                       'QualtricsRSQ_POST', 'QualtricsMSLQ_POST', 'Qualtrics2waySSS_POST', 'QualtricsBRS_POST', \n",
    "                       'QualtricsMAAS_POST', 'QualtricsUCLALoneliness_POST', 'QualtricsCESD_POST', \n",
    "                       'QualtricsBFI10Extroversion_POST', 'QualtricsBFI10Agreeableness_POST', \n",
    "                       'QualtricsBFI10Conscientiousness_POST', 'QualtricsBFI10Neuroticism_POST', \n",
    "                       'QualtricsBFI10Openness_POST', 'LOC_POST', 'Gender_MFO_POST', 'CHIPS_POST', 'BRS_POST', \n",
    "                       'BDI_II_Suicidality_POST', 'BDI_II_POST', 'CES_D_POST', 'ISEL_APPRAISEL_POST', \n",
    "                       'ISEL_BELONGING_POST', 'ISEL_TANGIBLE_POST', 'UCLA_Loneliness_POST', 'MAAS_POST', \n",
    "                       'K2way_SSS_POST', 'K2way_SSS_REmotional_POST', 'K2way_SSS_GEmotional_POST', \n",
    "                       'K2way_SSS_RInstrumental_POST', 'K2way_SSS_GInstrumental_POST', 'K2way_SSS_Receive_POST', \n",
    "                       'K2way_SSS_Give_POST', 'MYU_IDENTITY_POST', 'MYU_DRAINED_POST', 'GMM_POST', 'MSLQ_POST', \n",
    "                       'RSQ_POST', 'STAI_POST', 'ERQ_POST', 'ERQ_Reappraisal_POST', 'ERQ_Suppression_POST', \n",
    "                       'PSS_POST', 'Sports_POST', 'BFI_Extraversion_POST', 'BFI_Agreeableness_POST', \n",
    "                       'BFI_Conscientiousness_POST', 'BFI_Neuroticism_POST', 'BFI_Openness_POST', \n",
    "                       'MYU_Services_STARS_01_POST', 'CSU_Substance_POST', 'Engineer_POST', 'Finished_Study', 'Finished']"
   ]
  },
  {
   "cell_type": "code",
   "execution_count": null,
   "metadata": {},
   "outputs": [],
   "source": [
    "data = data[correlation_columns]\n",
    "data = data[data['Finished_Study'] == 1]\n",
    "data = data.groupby('PID').first()\n",
    "data = data.reset_index()"
   ]
  },
  {
   "cell_type": "code",
   "execution_count": null,
   "metadata": {},
   "outputs": [],
   "source": [
    "SF_12_PHYSICAL = 56.57706\n",
    "SF_12_MENTAL = 60.75781\n",
    "data['QualtricsSF12Physical_POST'] = data['QualtricsSF12Physical_POST'] + SF_12_PHYSICAL\n",
    "data['QualtricsSF12Mental_POST'] = data['QualtricsSF12Mental_POST'] + SF_12_MENTAL\n",
    "# TO-DO additionally finalize Qulatrics items by averaging the ones that should be averages"
   ]
  },
  {
   "cell_type": "code",
   "execution_count": null,
   "metadata": {},
   "outputs": [],
   "source": [
    "data = data[data.notnull().all(axis=1)]"
   ]
  },
  {
   "cell_type": "code",
   "execution_count": null,
   "metadata": {},
   "outputs": [],
   "source": [
    "data = data[[\"PID\", \"QualtricsSF12Physical_POST\", \"QualtricsSF12Mental_POST\", \"CHIPS_POST\", \"BRS_POST\", \"BDI_II_POST\", \n",
    "             \"CES_D_POST\", \"ISEL_APPRAISEL_POST\", \"ISEL_BELONGING_POST\", \"ISEL_TANGIBLE_POST\", \"UCLA_Loneliness_POST\", \n",
    "             \"MAAS_POST\", \"K2way_SSS_REmotional_POST\", \"K2way_SSS_GEmotional_POST\", \"K2way_SSS_RInstrumental_POST\", \n",
    "             \"K2way_SSS_GInstrumental_POST\", \"K2way_SSS_Receive_POST\", \"K2way_SSS_Give_POST\", \"GMM_POST\", \"MSLQ_POST\", \n",
    "             \"RSQ_POST\", \"STAI_POST\", \"ERQ_Reappraisal_POST\", \"ERQ_Suppression_POST\", \"PSS_POST\"]]"
   ]
  },
  {
   "cell_type": "code",
   "execution_count": null,
   "metadata": {},
   "outputs": [],
   "source": [
    "data.to_csv('/Users/yasaman/UWEXP/analysis-scripts/combined/results/surveys4corr_POST.csv', index = False)"
   ]
  },
  {
   "cell_type": "code",
   "execution_count": null,
   "metadata": {},
   "outputs": [],
   "source": [
    "list(data[data['Finished_Study'] == 1].groupby('PID').first().index)"
   ]
  },
  {
   "cell_type": "code",
   "execution_count": null,
   "metadata": {},
   "outputs": [],
   "source": [
    "data[data.isnull().all(axis=1)].shape[0]"
   ]
  },
  {
   "cell_type": "code",
   "execution_count": null,
   "metadata": {},
   "outputs": [],
   "source": [
    "data[data['PID'] == 27]"
   ]
  },
  {
   "cell_type": "code",
   "execution_count": 6,
   "metadata": {},
   "outputs": [],
   "source": [
    "PIDs2remove = [18, 26, 27, 41, 53, 56, 69, 71, 81, 83, 85, 89, 100, 101, 107, 112, 114, 119, 121, 129, 131, 133, 135, \n",
    "               139, 141, 147, 152, 164, 182, 192, 197, 200, 208]\n",
    "data = data[~data['PID'].isin(PIDs2remove)]"
   ]
  },
  {
   "cell_type": "code",
   "execution_count": 19,
   "metadata": {},
   "outputs": [],
   "source": [
    "discriminated_demographics = data[data['discriminated'] == 'YES']"
   ]
  },
  {
   "cell_type": "code",
   "execution_count": 20,
   "metadata": {},
   "outputs": [],
   "source": [
    "discriminated_demographics = discriminated_demographics.groupby(by=['PID']).first().reset_index()"
   ]
  },
  {
   "cell_type": "code",
   "execution_count": 21,
   "metadata": {},
   "outputs": [
    {
     "name": "stdout",
     "output_type": "stream",
     "text": [
      "Gender_MFO_B1\n",
      "1    35\n",
      "2    63\n",
      "dtype: int64\n"
     ]
    }
   ],
   "source": [
    "print(discriminated_demographics.groupby(by=['Gender_MFO_B1']).size())"
   ]
  },
  {
   "cell_type": "code",
   "execution_count": 22,
   "metadata": {},
   "outputs": [
    {
     "name": "stdout",
     "output_type": "stream",
     "text": [
      "FirstGen_B1\n",
      "0    24\n",
      "1    74\n",
      "dtype: int64\n"
     ]
    }
   ],
   "source": [
    "print(discriminated_demographics.groupby(by=['FirstGen_B1']).size())"
   ]
  },
  {
   "cell_type": "code",
   "execution_count": 23,
   "metadata": {},
   "outputs": [
    {
     "name": "stdout",
     "output_type": "stream",
     "text": [
      "Minority_B1\n",
      "0    32\n",
      "1    66\n",
      "dtype: int64\n"
     ]
    }
   ],
   "source": [
    "print(discriminated_demographics.groupby(by=['Minority_B1']).size())"
   ]
  },
  {
   "cell_type": "code",
   "execution_count": 24,
   "metadata": {},
   "outputs": [
    {
     "name": "stdout",
     "output_type": "stream",
     "text": [
      "URM_B1\n",
      "0    84\n",
      "1    14\n",
      "dtype: int64\n"
     ]
    }
   ],
   "source": [
    "print(discriminated_demographics.groupby(by=['URM_B1']).size())"
   ]
  },
  {
   "cell_type": "code",
   "execution_count": 25,
   "metadata": {},
   "outputs": [
    {
     "name": "stdout",
     "output_type": "stream",
     "text": [
      "Engineer_B1\n",
      "0    57\n",
      "1    41\n",
      "dtype: int64\n"
     ]
    }
   ],
   "source": [
    "print(discriminated_demographics.groupby(by=['Engineer_B1']).size())"
   ]
  },
  {
   "cell_type": "code",
   "execution_count": 7,
   "metadata": {},
   "outputs": [],
   "source": [
    "data_demographics = data.groupby(by=['PID']).first().reset_index()"
   ]
  },
  {
   "cell_type": "code",
   "execution_count": 8,
   "metadata": {},
   "outputs": [
    {
     "name": "stdout",
     "output_type": "stream",
     "text": [
      "Gender_MFO_B1\n",
      "1     62\n",
      "2    114\n",
      "dtype: int64\n"
     ]
    }
   ],
   "source": [
    "print(data_demographics.groupby(by=['Gender_MFO_B1']).size())"
   ]
  },
  {
   "cell_type": "code",
   "execution_count": 10,
   "metadata": {},
   "outputs": [
    {
     "name": "stdout",
     "output_type": "stream",
     "text": [
      "Minority_B1\n",
      "0     60\n",
      "1    116\n",
      "dtype: int64\n"
     ]
    }
   ],
   "source": [
    "print(data_demographics.groupby(by=['Minority_B1']).size())"
   ]
  },
  {
   "cell_type": "code",
   "execution_count": 14,
   "metadata": {},
   "outputs": [
    {
     "name": "stdout",
     "output_type": "stream",
     "text": [
      "URM_B1\n",
      "0    153\n",
      "1     23\n",
      "dtype: int64\n"
     ]
    }
   ],
   "source": [
    "print(data_demographics.groupby(by=['URM_B1']).size())"
   ]
  },
  {
   "cell_type": "code",
   "execution_count": 9,
   "metadata": {},
   "outputs": [
    {
     "name": "stdout",
     "output_type": "stream",
     "text": [
      "FirstGen_B1\n",
      "0     51\n",
      "1    125\n",
      "dtype: int64\n"
     ]
    }
   ],
   "source": [
    "print(data_demographics.groupby(by=['FirstGen_B1']).size())"
   ]
  },
  {
   "cell_type": "code",
   "execution_count": 16,
   "metadata": {},
   "outputs": [
    {
     "data": {
      "text/plain": [
       "Engineer_B1\n",
       "0    104\n",
       "1     72\n",
       "dtype: int64"
      ]
     },
     "execution_count": 16,
     "metadata": {},
     "output_type": "execute_result"
    }
   ],
   "source": [
    "data_demographics.groupby(by=['Engineer_B1']).size()"
   ]
  },
  {
   "cell_type": "code",
   "execution_count": 11,
   "metadata": {},
   "outputs": [
    {
     "name": "stdout",
     "output_type": "stream",
     "text": [
      "Gender_MFO_B1  Engineer_B1\n",
      "1              0              30\n",
      "               1              32\n",
      "2              0              74\n",
      "               1              40\n",
      "dtype: int64\n"
     ]
    }
   ],
   "source": [
    "print(data_demographics.groupby(by=['Gender_MFO_B1', 'Engineer_B1']).size())"
   ]
  },
  {
   "cell_type": "code",
   "execution_count": 13,
   "metadata": {},
   "outputs": [
    {
     "name": "stdout",
     "output_type": "stream",
     "text": [
      "Minority_B1  Engineer_B1\n",
      "0            0              35\n",
      "             1              25\n",
      "1            0              69\n",
      "             1              47\n",
      "dtype: int64\n"
     ]
    }
   ],
   "source": [
    "print(data_demographics.groupby(by=['Minority_B1', 'Engineer_B1']).size())"
   ]
  },
  {
   "cell_type": "code",
   "execution_count": 15,
   "metadata": {},
   "outputs": [
    {
     "name": "stdout",
     "output_type": "stream",
     "text": [
      "URM_B1  Engineer_B1\n",
      "0       0              94\n",
      "        1              59\n",
      "1       0              10\n",
      "        1              13\n",
      "dtype: int64\n"
     ]
    }
   ],
   "source": [
    "print(data_demographics.groupby(by=['URM_B1', 'Engineer_B1']).size())"
   ]
  },
  {
   "cell_type": "code",
   "execution_count": 12,
   "metadata": {},
   "outputs": [
    {
     "name": "stdout",
     "output_type": "stream",
     "text": [
      "FirstGen_B1  Engineer_B1\n",
      "0            0              26\n",
      "             1              25\n",
      "1            0              78\n",
      "             1              47\n",
      "dtype: int64\n"
     ]
    }
   ],
   "source": [
    "print(data_demographics.groupby(by=['FirstGen_B1', 'Engineer_B1']).size())"
   ]
  },
  {
   "cell_type": "code",
   "execution_count": 17,
   "metadata": {},
   "outputs": [
    {
     "data": {
      "text/plain": [
       "33"
      ]
     },
     "execution_count": 17,
     "metadata": {},
     "output_type": "execute_result"
    }
   ],
   "source": [
    "len(PIDs2remove)"
   ]
  },
  {
   "cell_type": "code",
   "execution_count": 18,
   "metadata": {},
   "outputs": [
    {
     "data": {
      "text/plain": [
       "373"
      ]
     },
     "execution_count": 18,
     "metadata": {},
     "output_type": "execute_result"
    }
   ],
   "source": [
    "data[data['discriminated'] == 'YES'].shape[0]"
   ]
  },
  {
   "cell_type": "code",
   "execution_count": null,
   "metadata": {},
   "outputs": [],
   "source": []
  }
 ],
 "metadata": {
  "kernelspec": {
   "display_name": "Python 3",
   "language": "python",
   "name": "python3"
  },
  "language_info": {
   "codemirror_mode": {
    "name": "ipython",
    "version": 3
   },
   "file_extension": ".py",
   "mimetype": "text/x-python",
   "name": "python",
   "nbconvert_exporter": "python",
   "pygments_lexer": "ipython3",
   "version": "3.6.4"
  },
  "toc": {
   "base_numbering": 1,
   "nav_menu": {},
   "number_sections": true,
   "sideBar": true,
   "skip_h1_title": false,
   "title_cell": "Table of Contents",
   "title_sidebar": "Contents",
   "toc_cell": false,
   "toc_position": {},
   "toc_section_display": true,
   "toc_window_display": false
  }
 },
 "nbformat": 4,
 "nbformat_minor": 2
}
