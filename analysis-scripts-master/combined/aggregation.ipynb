{
 "cells": [
  {
   "cell_type": "code",
   "execution_count": null,
   "metadata": {},
   "outputs": [],
   "source": [
    "import pandas as pd"
   ]
  },
  {
   "cell_type": "code",
   "execution_count": null,
   "metadata": {},
   "outputs": [],
   "source": [
    "prepost_file = '/Users/yasaman/UWEXP/analysis-scripts/combined/data/merged_by_row_cmu.csv' # should ideally be in survey/results\n",
    "ema_file = '/Users/yasaman/UWEXP/analysis-scripts/surveys/results/emaaggregation/aggregated-horizontal-numVal-internalID-cmu.csv'\n",
    "sensor_file = '/Users/yasaman/UWEXP/analysis-scripts/sensors/cmudata/results/sensors.csv'\n",
    "aggregated_file = '/Users/yasaman/UWEXP/analysis-scripts/combined/results/aggregated-all-cmu.csv'\n",
    "\n",
    "demo_cols = ['Engineer', 'Gender_MFO', 'URM', 'Minority']\n",
    "prepost_cols = ['BDI_II', 'CES_D', 'PSS', 'UCLA_Loneliness', \n",
    "                'ISEL_APPRAISEL', 'ISEL_BELONGING', 'ISEL_TANGIBLE', \n",
    "                'K2way_SSS', 'K2way_SSS_GEmotional', 'K2way_SSS_GInstrumental', \n",
    "                'K2way_SSS_Give', 'K2way_SSS_REmotional', 'K2way_SSS_RInstrumental', 'K2way_SSS_Receive', \n",
    "                'MAAS', 'BRS', 'CHIPS']"
   ]
  },
  {
   "cell_type": "code",
   "execution_count": null,
   "metadata": {},
   "outputs": [],
   "source": [
    "prepost = pd.read_csv(prepost_file) \n",
    "ema = pd.read_csv(ema_file)\n",
    "sensor = pd.read_csv(sensor_file)"
   ]
  },
  {
   "cell_type": "code",
   "execution_count": null,
   "metadata": {},
   "outputs": [],
   "source": [
    "prepost = prepost.set_index('PID')\n",
    "h_prepost = prepost[prepost['survey_type'] == 'baseline1'][demo_cols]\n",
    "h_prepost = h_prepost.rename({col:col+'_B1' for col in demo_cols}, axis='columns')\n",
    "for col in prepost_cols:\n",
    "    h_prepost[col+'_B2'] = prepost[prepost['survey_type'] == 'baseline2'][col]\n",
    "    h_prepost[col+'_POST'] = prepost[prepost['survey_type'] == 'post'][col]\n",
    "h_prepost = h_prepost.reset_index()"
   ]
  },
  {
   "cell_type": "code",
   "execution_count": null,
   "metadata": {},
   "outputs": [],
   "source": [
    "sensor = sensor[sensor['PID'].notnull()]"
   ]
  },
  {
   "cell_type": "code",
   "execution_count": null,
   "metadata": {},
   "outputs": [],
   "source": [
    "merged = pd.merge(ema, sensor, how='left', on=['PID', 'date'])\n",
    "merged = pd.merge(merged, h_prepost, how='left', on=['PID'])"
   ]
  },
  {
   "cell_type": "code",
   "execution_count": null,
   "metadata": {},
   "outputs": [],
   "source": [
    "merged.to_csv(aggregated_file, index=False)"
   ]
  },
  {
   "cell_type": "code",
   "execution_count": null,
   "metadata": {},
   "outputs": [],
   "source": []
  }
 ],
 "metadata": {
  "kernelspec": {
   "display_name": "Python 3",
   "language": "python",
   "name": "python3"
  },
  "language_info": {
   "codemirror_mode": {
    "name": "ipython",
    "version": 3
   },
   "file_extension": ".py",
   "mimetype": "text/x-python",
   "name": "python",
   "nbconvert_exporter": "python",
   "pygments_lexer": "ipython3",
   "version": "3.6.4"
  },
  "toc": {
   "base_numbering": 1,
   "nav_menu": {},
   "number_sections": true,
   "sideBar": true,
   "skip_h1_title": false,
   "title_cell": "Table of Contents",
   "title_sidebar": "Contents",
   "toc_cell": false,
   "toc_position": {},
   "toc_section_display": true,
   "toc_window_display": false
  }
 },
 "nbformat": 4,
 "nbformat_minor": 2
}
