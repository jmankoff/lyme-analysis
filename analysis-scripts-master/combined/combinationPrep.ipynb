{
 "cells": [
  {
   "cell_type": "code",
   "execution_count": null,
   "metadata": {},
   "outputs": [],
   "source": [
    "import pandas as pd\n",
    "import numpy as np\n",
    "import matplotlib.pyplot as plt\n",
    "import seaborn as sns"
   ]
  },
  {
   "cell_type": "code",
   "execution_count": null,
   "metadata": {},
   "outputs": [],
   "source": [
    "## aligining discrimination repports with next day survey and sensor data\n",
    "# NOTE this is temporary; the reimplementation of the R analysis code should have this\n",
    "#data_file = '/Users/yasaman/UWEXP/analysis-scripts/combined/results/bigtable_UWonly.csv'\n",
    "data_file = '/Users/yasaman/UWEXP/analysis-scripts/combined/results/bigtable_UWonly+step.csv'\n",
    "#data_file = '/Users/yasaman/UWEXP/analysis-scripts/combined/results/aggregated-all-cmu.csv'\n",
    "#data_file = '/Users/yasaman/UWEXP/analysis-scripts/surveys/results/emaaggregation/aggregated-horizontal-numVal-internalID.csv'\n",
    "PIDs2remove = [18, 26, 27, 41, 53, 56, 69, 71, 81, 83, 85, 89, 100, 101, 107, 112, 114, 119, 121, 129, 131, 133, 135, \n",
    "               139, 141, 147, 152, 164, 182, 192, 197, 200, 208]\n",
    "PIDs2remove_cmu = [524]\n",
    "offset = '2017-12-31'\n",
    "PIDs2remove_sensor = [18, 29, 46, 48, 68, 71, 74, 81, 83, 95, 103, 113, 133, 151, 152, 159, 173, 178, 182, 184, 196, \n",
    "                      197, 199, 200, 203, 204]\n",
    "day_sensor_start = 29 # Jan 29\n",
    "day_sensor_end = 156 # Jun 05"
   ]
  },
  {
   "cell_type": "code",
   "execution_count": null,
   "metadata": {},
   "outputs": [],
   "source": [
    "data = pd.read_csv(data_file, na_values = [' '])"
   ]
  },
  {
   "cell_type": "code",
   "execution_count": null,
   "metadata": {},
   "outputs": [],
   "source": [
    "discrimination_categories = { \n",
    "  1: 'national', \n",
    "  2: 'gender', \n",
    "  3: 'orientation', \n",
    "  4: 'intelligence', \n",
    "  5: 'major', \n",
    "  6: 'learning', \n",
    "  7: 'income', \n",
    "  8: 'age', \n",
    "  9: 'religion', \n",
    " 10: 'disability', \n",
    " 11: 'height', \n",
    " 12: 'weight', \n",
    " 13: 'appearance'\n",
    "}"
   ]
  },
  {
   "cell_type": "code",
   "execution_count": null,
   "metadata": {},
   "outputs": [],
   "source": [
    "cmu_discrimination_breakdown = data[data['unfair_type'] != 14].groupby(by=['unfair_type']).size()\n",
    "cmu_discrimination_breakdown = cmu_discrimination_breakdown.rename(discrimination_categories)\n",
    "cmu_discrimination_breakdown = cmu_discrimination_breakdown.sort_values(ascending=False)"
   ]
  },
  {
   "cell_type": "code",
   "execution_count": null,
   "metadata": {},
   "outputs": [],
   "source": [
    "cmu_discrimination_breakdown = data[(data['unfair_type'] != 14) & (data['Gender_MFO_B1'] == 2)].groupby(by=['unfair_type']).size()\n",
    "cmu_discrimination_breakdown = cmu_discrimination_breakdown.rename(discrimination_categories)\n",
    "cmu_discrimination_breakdown = cmu_discrimination_breakdown.sort_values(ascending=False)"
   ]
  },
  {
   "cell_type": "code",
   "execution_count": null,
   "metadata": {},
   "outputs": [],
   "source": [
    "fig, ax = plt.subplots(1, 1,  figsize=(8, 6))\n",
    "cmu_discrimination_breakdown.plot(kind='bar', ax=ax)\n",
    "ax.set_xticklabels(ax.get_xticklabels(), rotation=45, ha='right')\n",
    "plt.savefig('/Users/yasaman/Downloads/cmu-discrimination-breakdown-women.png', format = 'png', bbox_inches = 'tight')"
   ]
  },
  {
   "cell_type": "code",
   "execution_count": null,
   "metadata": {},
   "outputs": [],
   "source": [
    "data['day'] = (pd.to_datetime(data['date']) - pd.to_datetime(offset)).dt.days\n",
    "columns = list(data.columns)\n",
    "columns.remove('day')\n",
    "columns.insert(columns.index('date')+1, 'day')\n",
    "data = data[columns]"
   ]
  },
  {
   "cell_type": "code",
   "execution_count": null,
   "metadata": {},
   "outputs": [],
   "source": [
    "data.sort_values(by=['PID', 'date'], ascending=[True, True], inplace=True)\n",
    "after_days = 7\n",
    "for i in range(1, after_days):\n",
    "    data['discriminated_shifted_{}'.format(i)] = data['discriminated'].shift(periods=i)\n",
    "columns = list(data.columns)\n",
    "for i in range(1, after_days):\n",
    "    columns.remove('discriminated_shifted_{}'.format(i))\n",
    "ind = columns.index('discriminated')\n",
    "for i in range(1, after_days):\n",
    "    columns.insert(ind+i, 'discriminated_shifted_{}'.format(i))\n",
    "data = data[columns]"
   ]
  },
  {
   "cell_type": "code",
   "execution_count": null,
   "metadata": {},
   "outputs": [],
   "source": [
    "data['same_day'] = data['discriminated'].map({'YES': 1, 'NO': 0}, na_action='ignore')\n",
    "for i in range(1, after_days):\n",
    "    if i == 1:\n",
    "        data['next_day'] = data['discriminated_shifted_{}'.format(i)].map({'YES': 1, 'NO': 0}, na_action='ignore')\n",
    "    else:\n",
    "        data['next_{}days'.format(i)] = data['discriminated_shifted_{}'.format(i)].map({'YES': 1, 'NO': 0}, na_action='ignore')\n",
    "columns = list(data.columns)\n",
    "columns.remove('same_day')\n",
    "for i in range(1, after_days):\n",
    "    if i == 1:\n",
    "        columns.remove('next_day')\n",
    "    else:\n",
    "        columns.remove('next_{}days'.format(i))\n",
    "columns.insert(columns.index('discriminated')+1, 'same_day')\n",
    "for i in range(1, after_days):\n",
    "    if i == 1:\n",
    "        columns.insert(columns.index('discriminated_shifted_1')+1, 'next_day')\n",
    "    else:\n",
    "        columns.insert(columns.index('discriminated_shifted_{}'.format(i))+1, 'next_{}days'.format(i))\n",
    "data = data[columns]"
   ]
  },
  {
   "cell_type": "code",
   "execution_count": null,
   "metadata": {},
   "outputs": [],
   "source": [
    "data.sort_values(by=['PID', 'date'], ascending=[True, True], inplace=True)\n",
    "before_days = 7\n",
    "for i in range(1, before_days):\n",
    "    data['discriminated_shifted_-{}'.format(i)] = data['discriminated'].shift(periods=-i)\n",
    "columns = list(data.columns)\n",
    "for i in range(1, before_days):\n",
    "    columns.remove('discriminated_shifted_-{}'.format(i))\n",
    "ind = columns.index('discriminated')\n",
    "for i in range(1, before_days):\n",
    "    columns.insert(ind, 'discriminated_shifted_-{}'.format(i))\n",
    "data = data[columns]"
   ]
  },
  {
   "cell_type": "code",
   "execution_count": null,
   "metadata": {},
   "outputs": [],
   "source": [
    "for i in range(1, before_days):\n",
    "    if i == 1:\n",
    "        data['day_before'] = data['discriminated_shifted_-{}'.format(i)].map({'YES': 1, 'NO': 0}, na_action='ignore')\n",
    "    else:\n",
    "        data['{}days_before'.format(i)] = data['discriminated_shifted_-{}'.format(i)].map({'YES': 1, 'NO': 0}, na_action='ignore')\n",
    "columns = list(data.columns)\n",
    "for i in range(1, before_days):\n",
    "    if i == 1:\n",
    "        columns.remove('day_before')\n",
    "    else:\n",
    "        columns.remove('{}days_before'.format(i))\n",
    "for i in range(1, before_days):\n",
    "    if i == 1:\n",
    "        columns.insert(columns.index('discriminated_shifted_-1')+1, 'day_before')\n",
    "    else:\n",
    "        columns.insert(columns.index('discriminated_shifted_-{}'.format(i))+1, '{}days_before'.format(i))\n",
    "data = data[columns]"
   ]
  },
  {
   "cell_type": "code",
   "execution_count": null,
   "metadata": {},
   "outputs": [],
   "source": [
    "# PID524 does not have any evening or weekly EMA containing the discrimiantion question. It is thus removed\n",
    "data = data[~data['PID'].isin(PIDs2remove_cmu)]"
   ]
  },
  {
   "cell_type": "code",
   "execution_count": null,
   "metadata": {},
   "outputs": [],
   "source": [
    "data['discriminated_num'] = data.groupby(by=['PID'])['same_day'].transform(sum)\n",
    "data['discriminated_yn'] = (data['discriminated_num'] > 0).map({True: 1, False: 0}, na_action='ignore')\n",
    "data['discriminated_count'] = data.groupby(by=['PID'])['same_day'].transform('count')\n",
    "data['discriminated_rate'] = data.apply(lambda x: x['discriminated_num']/x['discriminated_count'], axis = 1)\n",
    "columns = list(data.columns)\n",
    "columns.remove('discriminated_num')\n",
    "columns.remove('discriminated_yn')\n",
    "columns.remove('discriminated_count')\n",
    "columns.remove('discriminated_rate')\n",
    "ind = columns.index('discriminated')\n",
    "columns.insert(ind, 'discriminated_rate')\n",
    "columns.insert(ind, 'discriminated_count')\n",
    "columns.insert(ind, 'discriminated_num')\n",
    "columns.insert(ind, 'discriminated_yn')\n",
    "data = data[columns]"
   ]
  },
  {
   "cell_type": "code",
   "execution_count": null,
   "metadata": {},
   "outputs": [],
   "source": [
    "def wrt_discrimination(row, after_days, before_days):\n",
    "    if row['same_day'] == 1:\n",
    "        return 0\n",
    "    for i in range(1, after_days):\n",
    "        if i == 1:\n",
    "            col = 'next_day'\n",
    "        else:\n",
    "            col = 'next_{}days'.format(i)   \n",
    "        if row[col] == 1:\n",
    "            return i\n",
    "    for i in range(1, before_days):\n",
    "        if i == 1:\n",
    "            col = 'day_before'\n",
    "        else:\n",
    "            col = '{}days_before'.format(i)\n",
    "        if row[col] == 1:\n",
    "            return -i\n",
    "    return None\n",
    "#data = pd.DataFrame({'day': [1, 2, 3, 4, 5, 6, 7, 8, 9, 10, 11, 12, 13, 14, 15, 16, 17, 18, 19, 20, 21, 22],\n",
    "#           'discriminated': [None, 'NO', None, None, None, 'YES', None, None, 'YES', None, None, None, 'NO', 'YES', 'YES', 'NO', 'NO', 'NO', 'NO', None, None, 'NO']})"
   ]
  },
  {
   "cell_type": "code",
   "execution_count": null,
   "metadata": {},
   "outputs": [],
   "source": [
    "data['day_of_discrimination'] = data.apply(lambda x: wrt_discrimination(x, after_days, before_days), axis=1)\n",
    "columns = list(data.columns)\n",
    "columns.remove('day_of_discrimination')\n",
    "ind = columns.index('discriminated_yn')\n",
    "columns.insert(ind, 'day_of_discrimination')\n",
    "data = data[columns]"
   ]
  },
  {
   "cell_type": "code",
   "execution_count": null,
   "metadata": {},
   "outputs": [],
   "source": [
    "data['CES_D_delta'] = data['CES_D_POST'] - data['CES_D_B2']\n",
    "#data['STAI_delta'] = data['STAI_POST'] - data['STAI_B2'] # comment out for CMU\n",
    "data['PSS_delta'] = data['PSS_POST'] - data['PSS_B2']\n",
    "data['UCLA_Loneliness_delta'] = data['UCLA_Loneliness_POST'] - data['UCLA_Loneliness_B2']\n",
    "columns = list(data.columns)\n",
    "columns.remove('CES_D_delta')\n",
    "#columns.remove('STAI_delta') # comment out for CMU\n",
    "columns.remove('PSS_delta')\n",
    "columns.remove('UCLA_Loneliness_delta')\n",
    "columns.insert(columns.index('CES_D_POST')+1, 'CES_D_delta')\n",
    "#columns.insert(columns.index('STAI_POST')+1, 'STAI_delta') # comment out for CMU\n",
    "columns.insert(columns.index('PSS_POST')+1, 'PSS_delta')\n",
    "columns.insert(columns.index('UCLA_Loneliness_POST')+1, 'UCLA_Loneliness_delta')\n",
    "data = data[columns]"
   ]
  },
  {
   "cell_type": "code",
   "execution_count": null,
   "metadata": {},
   "outputs": [],
   "source": [
    "#affect_items = ['anxious', 'depressed', 'frustrated', 'overwhelmed', 'lonely', 'happy', 'connected'] # comment out for CMU\n",
    "affect_items = ['anxious', 'depressed', 'overwhelmed', 'lonely', 'happy', 'connected'] # uncomment for CMU\n",
    "for affect in affect_items:\n",
    "    # data[affect] = data['feel_'+affect+'_weekly'] + data['feel_'+affect+'_morning']\n",
    "    # NOTE this generates a blank column as the result would be NaN if either columns is NaN which is always the case\n",
    "    # data[affect] = data[['feel_'+affect+'_weekly','feel_'+affect+'_morning']].sum(axis=1)\n",
    "    # NOTE this will generate columns with a lot of zeros when both weekly and morning columns are NaN. We don't want this\n",
    "    data[affect] = data['feel_'+affect+'_weekly'].combine_first(data['feel_'+affect+'_morning'])\n",
    "# for next day analysis this means we look at either weekly or morning ratings"
   ]
  },
  {
   "cell_type": "code",
   "execution_count": null,
   "metadata": {},
   "outputs": [],
   "source": [
    "columns = list(data.columns)\n",
    "for affect in affect_items:\n",
    "    columns.remove(affect)\n",
    "    columns.insert(columns.index('feel_anxious_weekly'), affect)\n",
    "data = data[columns]"
   ]
  },
  {
   "cell_type": "code",
   "execution_count": null,
   "metadata": {},
   "outputs": [],
   "source": [
    "within_cols = affect_items + ['feel_'+affect+'_evening' for affect in affect_items] + sensor_metrics\n",
    "within = data.groupby(by='PID')[within_cols].transform(lambda x: x - x.mean()+1)\n",
    "within.rename({col: col+'_within' for col in within_cols}, axis='columns', inplace=True)"
   ]
  },
  {
   "cell_type": "code",
   "execution_count": null,
   "metadata": {},
   "outputs": [],
   "source": [
    "data = pd.concat([data, within], axis=1)"
   ]
  },
  {
   "cell_type": "code",
   "execution_count": null,
   "metadata": {},
   "outputs": [],
   "source": [
    "data.to_csv('/Users/yasaman/UWEXP/analysis-scripts/combined/results/bigtable_UWonly+step_discriminated_7days_aligned+numeric+stats+delta+affectAgg+within.csv', index=False)\n",
    "#data.to_csv('/Users/yasaman/UWEXP/analysis-scripts/combined/results/cmu_discriminated_7days_aligned+numeric+stats+delta+affectAgg.csv', index=False)"
   ]
  },
  {
   "cell_type": "code",
   "execution_count": null,
   "metadata": {},
   "outputs": [],
   "source": [
    "x2data = data.groupby(by=['PID']).first()[['Gender_MFO_B1', 'Engineer_B1', 'discriminated_yn']]"
   ]
  },
  {
   "cell_type": "code",
   "execution_count": null,
   "metadata": {},
   "outputs": [],
   "source": [
    "print('sample breakdown by gender', x2data.groupby(by='Gender_MFO_B1').size())\n",
    "#print(x2data.groupby(by='Gender_MFO_B1')['discriminated_yn'].sum())\n",
    "print('breakdown of reports of discrimination by gender', \n",
    "        x2data[x2data['discriminated_yn'] == 1].groupby(by='Gender_MFO_B1').size())\n",
    "print('breakdown of no reports of discrimination by gender', \n",
    "        x2data[x2data['discriminated_yn'] == 0].groupby(by='Gender_MFO_B1').size())"
   ]
  },
  {
   "cell_type": "code",
   "execution_count": null,
   "metadata": {},
   "outputs": [],
   "source": [
    "print('sample breakdown by engineering status', x2data.groupby(by='Engineer_B1').size())\n",
    "#print('breakdown for by engineering status', x2data.groupby(by='Engineer_B1')['discriminated_yn'].sum())\n",
    "print('breakdown of reports of discrimination by engineering status', \n",
    "        x2data[x2data['discriminated_yn'] == 1].groupby(by='Engineer_B1').size())\n",
    "print('breakdown of no reports of discrimination by engineering status',\n",
    "        x2data[x2data['discriminated_yn'] == 0].groupby(by='Engineer_B1').size())"
   ]
  },
  {
   "cell_type": "code",
   "execution_count": null,
   "metadata": {},
   "outputs": [],
   "source": [
    "print('total reports of discrimination', data[(data['discriminated'] == 'YES')].shape[0])\n",
    "print('total reports of discrimination by women', data[(data['discriminated'] == 'YES') & (data['Gender_MFO_B1'] == 2)].shape[0])\n",
    "print('total reports of discrimination by men', data[(data['discriminated'] == 'YES') & (data['Gender_MFO_B1'] == 1)].shape[0])"
   ]
  },
  {
   "cell_type": "code",
   "execution_count": null,
   "metadata": {},
   "outputs": [],
   "source": [
    "print('total reports of discrimination', data[(data['discriminated'] == 'YES')].shape[0])\n",
    "print('total reports of discrimination by engineers', data[(data['discriminated'] == 'YES') & (data['Engineer_B1'] == 1)].shape[0])\n",
    "print('total reports of discrimination by non-engineers', data[(data['discriminated'] == 'YES') & (data['Engineer_B1'] == 0)].shape[0])"
   ]
  },
  {
   "cell_type": "code",
   "execution_count": null,
   "metadata": {},
   "outputs": [],
   "source": [
    "data_clean = data[~data['PID'].isin(PIDs2remove)]"
   ]
  },
  {
   "cell_type": "code",
   "execution_count": null,
   "metadata": {},
   "outputs": [],
   "source": [
    "pss_means = data_clean[['PSS_B2', 'PSS_MID', 'PSS_POST']].mean()\n",
    "uls_means = data_clean[['UCLA_Loneliness_B2', 'UCLA_Loneliness_MID', 'UCLA_Loneliness_POST']].mean()"
   ]
  },
  {
   "cell_type": "code",
   "execution_count": null,
   "metadata": {},
   "outputs": [],
   "source": [
    "['{:.2f}'.format(item) for item in list(pss_means)]"
   ]
  },
  {
   "cell_type": "code",
   "execution_count": null,
   "metadata": {},
   "outputs": [],
   "source": [
    "fig, ax = plt.subplots(1, 1, figsize=(6, 4))\n",
    "pss_means.plot(kind='bar', ax=ax)\n",
    "ax.set_xticklabels(['Baseline', 'Between Quarters', 'Post'], rotation=45, ha='right')\n",
    "ax.set_ylabel('Perceived Stress Scores (PSS)')\n",
    "bars = ax.patches\n",
    "labels = ['{:.2f}'.format(item) for item in list(pss_means)]\n",
    "for bar, label in zip(bars, labels):\n",
    "    height = bar.get_height()\n",
    "    ax.text(bar.get_x() + bar.get_width() / 2, height - 1.5, label, ha='center', va='bottom')"
   ]
  },
  {
   "cell_type": "code",
   "execution_count": null,
   "metadata": {},
   "outputs": [],
   "source": [
    "fig, ax = plt.subplots(1, 1, figsize=(6, 4))\n",
    "uls_means.plot(kind='bar', ax=ax)\n",
    "ax.set_xticklabels(['Baseline', 'Between Quarters', 'Post'], rotation=45, ha='right')\n",
    "ax.set_ylabel('UCLA Loneliness Scores (ULS)')\n",
    "bars = ax.patches\n",
    "labels = ['{:.2f}'.format(item) for item in list(uls_means)]\n",
    "for bar, label in zip(bars, labels):\n",
    "    height = bar.get_height()\n",
    "    ax.text(bar.get_x() + bar.get_width() / 2, height - 3.5, label, ha='center', va='bottom')"
   ]
  },
  {
   "cell_type": "code",
   "execution_count": null,
   "metadata": {},
   "outputs": [],
   "source": [
    "data_clean.to_csv('/Users/yasaman/UWEXP/analysis-scripts/combined/results/bigtable_UWonly_176+step_discriminated_7days_aligned+numeric+stats+delta+affectAgg.csv', index=False)"
   ]
  },
  {
   "cell_type": "code",
   "execution_count": null,
   "metadata": {},
   "outputs": [],
   "source": [
    "data_sensor = data[~data['PID'].isin(PIDs2remove_sensor)]\n",
    "data_sensor = data_sensor[(data_sensor['day'] >= day_sensor_start) & (data_sensor['day'] <= day_sensor_end)] \n",
    "# NOTE: we only look at sensor data betwee Jan 29 (day 29) and Jun 05 (day 156) "
   ]
  },
  {
   "cell_type": "code",
   "execution_count": null,
   "metadata": {},
   "outputs": [],
   "source": [
    "data_sensor.to_csv('/Users/yasaman/UWEXP/analysis-scripts/combined/results/bigtable_UWonly+step_176+sensor_discriminated_nexday_aligned+numeric+stats+delta+affectAgg.csv', index=False)"
   ]
  },
  {
   "cell_type": "code",
   "execution_count": null,
   "metadata": {},
   "outputs": [],
   "source": [
    "postoutcomes = ['CES_D_POST', 'STAI_POST', 'PSS_POST', 'UCLA_Loneliness_POST']\n",
    "postoutcomes_PIDs2remove = data_PIDs2remove.groupby(by=['PID']).first()[postoutcomes]\n",
    "postoutcomes_PIDs2remove"
   ]
  },
  {
   "cell_type": "code",
   "execution_count": null,
   "metadata": {},
   "outputs": [],
   "source": [
    "#data['Gender_MFO_POST'].unique() # returns array([ 1.,  2., nan,  0.])\n",
    "#data.groupby(by=['Gender_MFO_POST'])['Gender_MFO_POST'].size() # returns 0 --> 166, 1 --> 10126, 2 --> 18592\n",
    "#data[data['Gender_MFO_B1'] != data['Gender_MFO_POST']][['PID', 'Gender_MFO_B1', 'Gender_MFO_POST']] # three people how have B1 have NaN in post\n",
    "data[data['Gender_MFO_B1'] != data['Gender_MFO_POST']]['PID'].unique() # returns array([103, 125, 190])"
   ]
  },
  {
   "cell_type": "code",
   "execution_count": null,
   "metadata": {},
   "outputs": [],
   "source": [
    "outcomes = ['BDI_II_POST', \n",
    "            'CES_D_B2', 'CES_D_POST', \n",
    "            'STAI_B2', 'STAI_POST', # comment out for CMU\n",
    "            'PSS_B2', 'PSS_POST', \n",
    "            'UCLA_Loneliness_B2', 'UCLA_Loneliness_POST']\n",
    "outcomes = data.groupby(by=['PID']).first()[outcomes]"
   ]
  },
  {
   "cell_type": "code",
   "execution_count": null,
   "metadata": {},
   "outputs": [],
   "source": [
    "outcomes[outcomes.isnull().any(axis=1)] # TO-DO why don't we have POST values for these people?"
   ]
  },
  {
   "cell_type": "code",
   "execution_count": null,
   "metadata": {},
   "outputs": [],
   "source": [
    "fig, ax = plt.subplots(1, 1, figsize=(8, 6))\n",
    "sns.distplot(outcomes[outcomes['BDI_II_POST'].notnull()]['BDI_II_POST'], bins=100, color='b', ax=ax)\n",
    "ax.set_xlabel('BDI_II depression scores')"
   ]
  },
  {
   "cell_type": "code",
   "execution_count": null,
   "metadata": {},
   "outputs": [],
   "source": [
    "sns.distplot(outcomes['CES_D_B2'], bins=100, color='k')\n",
    "sns.distplot(outcomes[outcomes['CES_D_POST'].notnull()]['CES_D_POST'], bins=100, color='b')"
   ]
  },
  {
   "cell_type": "code",
   "execution_count": null,
   "metadata": {},
   "outputs": [],
   "source": [
    "sns.distplot(outcomes['STAI_B2'], bins=100, color='k')\n",
    "sns.distplot(outcomes[outcomes['STAI_POST'].notnull()]['STAI_POST'], bins=100, color='b')"
   ]
  },
  {
   "cell_type": "code",
   "execution_count": null,
   "metadata": {},
   "outputs": [],
   "source": [
    "sns.distplot(outcomes['PSS_B2'], bins=100, color='k')\n",
    "sns.distplot(outcomes[outcomes['PSS_POST'].notnull()]['PSS_POST'], bins=100, color='b')"
   ]
  },
  {
   "cell_type": "code",
   "execution_count": null,
   "metadata": {},
   "outputs": [],
   "source": [
    "sns.distplot(outcomes['UCLA_Loneliness_B2'], bins=100, color='k')\n",
    "sns.distplot(outcomes[outcomes['UCLA_Loneliness_POST'].notnull()]['UCLA_Loneliness_POST'], bins=100, color='b')"
   ]
  },
  {
   "cell_type": "code",
   "execution_count": null,
   "metadata": {},
   "outputs": [],
   "source": [
    "fig, ax = plt.subplots(1, 1, figsize=(3, 4))\n",
    "outcomes.boxplot(column=['CES_D_B2', 'CES_D_POST'], ax=ax, widths=0.5)\n",
    "#ax.set_aspect(0.05)\n",
    "ax.set_xticklabels(['Pre', 'Post'])\n",
    "ax.set_ylabel('CES-D Depression Score')"
   ]
  },
  {
   "cell_type": "code",
   "execution_count": null,
   "metadata": {},
   "outputs": [],
   "source": [
    "fig, ax = plt.subplots(1, 1, figsize=(3, 4))\n",
    "outcomes.boxplot(column=['STAI_B2', 'STAI_POST'], ax=ax, widths=0.5)\n",
    "#ax.set_aspect(0.05)\n",
    "ax.set_xticklabels(['Pre', 'Post'])\n",
    "ax.set_ylabel('STAI Anxiety Score')"
   ]
  },
  {
   "cell_type": "code",
   "execution_count": null,
   "metadata": {},
   "outputs": [],
   "source": [
    "fig, ax = plt.subplots(1, 1, figsize=(3, 4))\n",
    "outcomes.boxplot(column=['PSS_B2', 'PSS_POST'], ax=ax, widths=0.5)\n",
    "#ax.set_aspect(0.05)\n",
    "ax.set_xticklabels(['Pre', 'Post'])\n",
    "ax.set_ylabel('PSS Stress Score')"
   ]
  },
  {
   "cell_type": "code",
   "execution_count": null,
   "metadata": {},
   "outputs": [],
   "source": [
    "fig, ax = plt.subplots(1, 1, figsize=(3, 4))\n",
    "outcomes.boxplot(column=['UCLA_Loneliness_B2', 'UCLA_Loneliness_POST'], ax=ax, widths=0.5)\n",
    "#ax.set_aspect(0.05)\n",
    "ax.set_xticklabels(['Pre', 'Post'])\n",
    "ax.set_ylabel('UCLA Loneliness Score')"
   ]
  },
  {
   "cell_type": "code",
   "execution_count": null,
   "metadata": {},
   "outputs": [],
   "source": [
    "outcomes_delta = ['CES_D_delta', 'STAI_delta', 'PSS_delta', 'UCLA_Loneliness_delta']\n",
    "outcomes_delta = data.groupby(by=['PID']).first()[outcomes_delta]"
   ]
  },
  {
   "cell_type": "code",
   "execution_count": null,
   "metadata": {},
   "outputs": [],
   "source": [
    "sns.distplot(outcomes_delta[outcomes_delta['CES_D_delta'].notnull()]['CES_D_delta'], bins=100, color='k')"
   ]
  },
  {
   "cell_type": "code",
   "execution_count": null,
   "metadata": {},
   "outputs": [],
   "source": [
    "sns.distplot(outcomes_delta[outcomes_delta['STAI_delta'].notnull()]['STAI_delta'], bins=100, color='k')"
   ]
  },
  {
   "cell_type": "code",
   "execution_count": null,
   "metadata": {},
   "outputs": [],
   "source": [
    "sns.distplot(outcomes_delta[outcomes_delta['PSS_delta'].notnull()]['PSS_delta'], bins=100, color='k')"
   ]
  },
  {
   "cell_type": "code",
   "execution_count": null,
   "metadata": {},
   "outputs": [],
   "source": [
    "sns.distplot(outcomes_delta[outcomes_delta['UCLA_Loneliness_delta'].notnull()]['UCLA_Loneliness_delta'], bins=100, color='k')"
   ]
  },
  {
   "cell_type": "code",
   "execution_count": null,
   "metadata": {},
   "outputs": [],
   "source": [
    "moderators = ['ISEL_APPRAISEL_POST', 'ISEL_BELONGING_POST', 'ISEL_TANGIBLE_POST', \n",
    "              'K2way_SSS_POST', \n",
    "              'K2way_SSS_REmotional_POST','K2way_SSS_GEmotional_POST',\n",
    "              'K2way_SSS_RInstrumental_POST','K2way_SSS_GInstrumental_POST',\n",
    "              'K2way_SSS_Receive_POST','K2way_SSS_Give_POST',\n",
    "              'MAAS_POST', \n",
    "              'ERQ_POST', \n",
    "              'ERQ_Reappraisal_POST', 'ERQ_Suppression_POST',\n",
    "              'BRS_POST',\n",
    "              'QualtricsSF12Mental_POST', 'QualtricsSF12Physical_POST', # NOTE: these should be replaced with SF12Mental_POST and SF12Physical_POST\n",
    "              'CHIPS_POST']\n",
    "moderators = data.groupby(by=['PID']).first()[moderators]"
   ]
  },
  {
   "cell_type": "code",
   "execution_count": null,
   "metadata": {},
   "outputs": [],
   "source": [
    "sns.pairplot(moderators[moderators.notnull().all(axis=1)], diag_kind='kde', plot_kws={'alpha': 0.2})"
   ]
  },
  {
   "cell_type": "code",
   "execution_count": null,
   "metadata": {},
   "outputs": [],
   "source": [
    "outmod = pd.merge(outcomes, moderators, left_index= True, right_index=True, how='inner')\n",
    "outmod = outmod[outmod.notnull().all(axis=1)]"
   ]
  },
  {
   "cell_type": "code",
   "execution_count": null,
   "metadata": {},
   "outputs": [],
   "source": [
    "sns.pairplot(outmod[['CES_D_POST', 'CHIPS_POST', 'MAAS_POST', 'ERQ_POST']], diag_kind='kde', plot_kws={'alpha': 0.2})"
   ]
  },
  {
   "cell_type": "code",
   "execution_count": null,
   "metadata": {},
   "outputs": [],
   "source": [
    "long_term = list(outcomes.columns) + list(moderators.columns) + ['discriminated_yn', 'discriminated_rate']\n",
    "long_term = data.groupby(by=['PID']).first()[long_term]"
   ]
  },
  {
   "cell_type": "code",
   "execution_count": null,
   "metadata": {},
   "outputs": [],
   "source": [
    "long_term = long_term[~long_term.isnull().any(axis=1)]"
   ]
  },
  {
   "cell_type": "code",
   "execution_count": null,
   "metadata": {},
   "outputs": [],
   "source": [
    "M = long_term[long_term['discriminated_rate'] > 0]['discriminated_rate'].mean()\n",
    "std = long_term[long_term['discriminated_rate'] > 0]['discriminated_rate'].std()"
   ]
  },
  {
   "cell_type": "code",
   "execution_count": null,
   "metadata": {},
   "outputs": [],
   "source": [
    "print(long_term[long_term['discriminated_rate'] > (M+5*std)]['discriminated_yn'].sum())\n",
    "print(long_term[long_term['discriminated_rate'] > 0.6]['discriminated_yn'].sum())"
   ]
  },
  {
   "cell_type": "code",
   "execution_count": null,
   "metadata": {},
   "outputs": [],
   "source": [
    "print(M+2*std)"
   ]
  },
  {
   "cell_type": "code",
   "execution_count": null,
   "metadata": {},
   "outputs": [],
   "source": [
    "sns.regplot('discriminated_rate', 'CES_D_POST', data=long_term)"
   ]
  },
  {
   "cell_type": "code",
   "execution_count": null,
   "metadata": {},
   "outputs": [],
   "source": [
    "sns.regplot('discriminated_rate', 'CES_D_POST', data=long_term[long_term['discriminated_rate'] < 0.5])"
   ]
  },
  {
   "cell_type": "code",
   "execution_count": null,
   "metadata": {},
   "outputs": [],
   "source": [
    "sns.regplot('discriminated_rate', 'CES_D_POST', data=long_term[(long_term['discriminated_rate'] < 0.5) & (long_term['discriminated_rate'] > 0)])"
   ]
  },
  {
   "cell_type": "code",
   "execution_count": null,
   "metadata": {},
   "outputs": [],
   "source": [
    "sns.lmplot(x=\"CES_D_POST\", y=\"BRS_POST\", hue=\"discriminated_yn\", data=long_term[(long_term['discriminated_rate'] < 0.5) & (long_term['discriminated_rate'] > 0)])"
   ]
  },
  {
   "cell_type": "code",
   "execution_count": null,
   "metadata": {},
   "outputs": [],
   "source": [
    "sns.lmplot(x=\"CES_D_POST\", y=\"K2way_SSS_POST\", hue=\"discriminated_yn\", data=long_term[(long_term['discriminated_rate'] < 0.5) & (long_term['discriminated_rate'] > 0)])"
   ]
  },
  {
   "cell_type": "code",
   "execution_count": null,
   "metadata": {},
   "outputs": [],
   "source": [
    "sns.lmplot(x=\"CES_D_POST\", y=\"BRS_POST\", hue=\"discriminated_yn\", data=long_term[(long_term['discriminated_rate'] < 0.5)])"
   ]
  },
  {
   "cell_type": "code",
   "execution_count": null,
   "metadata": {},
   "outputs": [],
   "source": [
    "sns.lmplot(x=\"CES_D_POST\", y=\"K2way_SSS_POST\", hue=\"discriminated_yn\", data=long_term[(long_term['discriminated_rate']<0.15)])"
   ]
  },
  {
   "cell_type": "code",
   "execution_count": null,
   "metadata": {},
   "outputs": [],
   "source": [
    "sns.regplot('discriminated_rate', 'STAI_POST', data=long_term)"
   ]
  },
  {
   "cell_type": "code",
   "execution_count": null,
   "metadata": {},
   "outputs": [],
   "source": [
    "sns.regplot('discriminated_rate', 'STAI_POST', data=long_term[long_term['discriminated_rate'] < 0.5])"
   ]
  },
  {
   "cell_type": "code",
   "execution_count": null,
   "metadata": {},
   "outputs": [],
   "source": [
    "sns.regplot('discriminated_rate', 'STAI_POST', data=long_term[(long_term['discriminated_rate'] < 0.5) & (long_term['discriminated_rate'] > 0.05)])"
   ]
  },
  {
   "cell_type": "code",
   "execution_count": null,
   "metadata": {},
   "outputs": [],
   "source": [
    "sns.regplot('discriminated_rate', 'PSS_POST', data=long_term)"
   ]
  },
  {
   "cell_type": "code",
   "execution_count": null,
   "metadata": {},
   "outputs": [],
   "source": [
    "sns.regplot('discriminated_rate', 'PSS_POST', data=long_term[long_term['discriminated_rate'] < 0.5])"
   ]
  },
  {
   "cell_type": "code",
   "execution_count": null,
   "metadata": {},
   "outputs": [],
   "source": [
    "sns.regplot('discriminated_rate', 'PSS_POST', data=long_term[(long_term['discriminated_rate'] < 0.5) & (long_term['discriminated_rate'] > 0.05)])"
   ]
  },
  {
   "cell_type": "code",
   "execution_count": null,
   "metadata": {},
   "outputs": [],
   "source": [
    "sns.regplot('discriminated_rate', 'UCLA_Loneliness_POST', data=long_term)"
   ]
  },
  {
   "cell_type": "code",
   "execution_count": null,
   "metadata": {},
   "outputs": [],
   "source": [
    "sns.regplot('discriminated_rate', 'UCLA_Loneliness_POST', data=long_term[long_term['discriminated_rate'] < 0.5])"
   ]
  },
  {
   "cell_type": "code",
   "execution_count": null,
   "metadata": {},
   "outputs": [],
   "source": [
    "sns.regplot('discriminated_rate', 'UCLA_Loneliness_POST', data=long_term[(long_term['discriminated_rate'] < 0.5) & (long_term['discriminated_rate'] > 0.05)])"
   ]
  },
  {
   "cell_type": "code",
   "execution_count": null,
   "metadata": {},
   "outputs": [],
   "source": [
    "sns.lmplot(x=\"CES_D_POST\", y=\"K2way_SSS_POST\", hue=\"discriminated_yn\", data=long_term)"
   ]
  },
  {
   "cell_type": "code",
   "execution_count": null,
   "metadata": {},
   "outputs": [],
   "source": [
    "ax = sns.lmplot(x=\"CES_D_POST\", y=\"K2way_SSS_POST\", hue=\"discriminated_yn\", data=long_term[long_term['discriminated_rate'] < 0.5])\n",
    "ax.set(xlabel='CES-D Depression Score', ylabel='2way SSS Social Support')\n",
    "ax._legend.set_title('discriminated?')\n",
    "new_labels = ['NO', 'YES']\n",
    "for t, l in zip(ax._legend.texts, new_labels): t.set_text(l)"
   ]
  },
  {
   "cell_type": "code",
   "execution_count": null,
   "metadata": {},
   "outputs": [],
   "source": [
    "affect_cols = affect_items + ['feel_'+affect+'_evening' for affect in affect_items]\n",
    "summary_affect = data.groupby(by=['day_of_discrimination'])[affect_cols].mean()\n",
    "for affect in affect_items:\n",
    "    summary_affect.loc[0, affect] = summary_affect.loc[0, 'feel_'+affect+'_evening']\n",
    "summary_affect = summary_affect[affect_items]"
   ]
  },
  {
   "cell_type": "code",
   "execution_count": null,
   "metadata": {},
   "outputs": [],
   "source": [
    "fig, ax = plt.subplots(1, 1, figsize=(8, 6))\n",
    "summary_affect[['depressed', 'frustrated']].plot(ax=ax)\n",
    "ax.set_xlabel('Days around Discrimination')\n",
    "ax.set_ylabel('Strength of Feelings')\n",
    "ax.legend(loc='upper right')"
   ]
  },
  {
   "cell_type": "code",
   "execution_count": null,
   "metadata": {},
   "outputs": [],
   "source": [
    "affect_cols = [affect+'_within' for affect in affect_items] + ['feel_'+affect+'_evening_within' for affect in affect_items]\n",
    "summary_affect = data.groupby(by=['day_of_discrimination'])[affect_cols].mean()\n",
    "for affect in affect_items:\n",
    "    summary_affect.loc[0, affect+'_within'] = summary_affect.loc[0, 'feel_'+affect+'_evening_within']\n",
    "summary_affect = summary_affect[[affect+'_within' for affect in affect_items]]"
   ]
  },
  {
   "cell_type": "code",
   "execution_count": null,
   "metadata": {},
   "outputs": [],
   "source": [
    "fig, ax = plt.subplots(1, 1, figsize=(8, 6))\n",
    "summary_affect[['depressed_within', 'frustrated_within']].plot(ax=ax)\n",
    "ax.set_xlabel('Days around Discrimination')\n",
    "ax.set_ylabel('Strength of Feelings')\n",
    "ax.legend(loc='upper right')"
   ]
  },
  {
   "cell_type": "code",
   "execution_count": null,
   "metadata": {},
   "outputs": [],
   "source": [
    "sensor_metrics = ['activity_count_changes_allday', \n",
    "                 'activity_count_changes_morning',\n",
    "                 'activity_count_changes_afternoon',\n",
    "                 'activity_count_changes_evening',\n",
    "                 'activity_count_changes_night',\n",
    "                 'activity_number_of_activities_allday',\n",
    "                 'activity_number_of_activities_morning',\n",
    "                 'activity_number_of_activities_afternoon',\n",
    "                 'activity_number_of_activities_evening',\n",
    "                 'activity_number_of_activities_night',\n",
    "                 'battery_num_rows_battery_allday',\n",
    "                 'battery_num_rows_battery_morning',\n",
    "                 'battery_num_rows_battery_afternoon',\n",
    "                 'battery_num_rows_battery_evening',\n",
    "                 'battery_num_rows_battery_night',\n",
    "                 'battery_length_of_charge_minutes_allday',\n",
    "                 'battery_length_of_charge_minutes_morning',\n",
    "                 'battery_length_of_charge_minutes_afternoon',\n",
    "                 'battery_length_of_charge_minutes_evening',\n",
    "                 'battery_length_of_charge_minutes_night',\n",
    "                 'bluetooth_num_scans_of_most_frequent_device_allday',\n",
    "                 'bluetooth_num_scans_of_most_frequent_device_morning',\n",
    "                 'bluetooth_num_scans_of_most_frequent_device_afternoon',\n",
    "                 'bluetooth_num_scans_of_most_frequent_device_evening',\n",
    "                 'bluetooth_num_scans_of_most_frequent_device_night',\n",
    "                 'bluetooth_number_samples_bluetooth_allday',\n",
    "                 'bluetooth_number_samples_bluetooth_morning',\n",
    "                 'bluetooth_number_samples_bluetooth_afternoon',\n",
    "                 'bluetooth_number_samples_bluetooth_evening',\n",
    "                 'bluetooth_number_samples_bluetooth_night',\n",
    "                 'bluetooth_sum_num_scans_of_all_devices_of_self_allday',\n",
    "                 'bluetooth_sum_num_scans_of_all_devices_of_self_morning',\n",
    "                 'bluetooth_sum_num_scans_of_all_devices_of_self_afternoon',\n",
    "                 'bluetooth_sum_num_scans_of_all_devices_of_self_evening',\n",
    "                 'bluetooth_sum_num_scans_of_all_devices_of_self_night',\n",
    "                 'bluetooth_avg_num_scans_of_all_devices_of_others_allday',\n",
    "                 'bluetooth_avg_num_scans_of_all_devices_of_others_morning',\n",
    "                 'bluetooth_avg_num_scans_of_all_devices_of_others_afternoon',\n",
    "                 'bluetooth_avg_num_scans_of_all_devices_of_others_evening',\n",
    "                 'bluetooth_avg_num_scans_of_all_devices_of_others_night',\n",
    "                 'bluetooth_std_num_scans_of_all_devices_of_others_allday',\n",
    "                 'bluetooth_std_num_scans_of_all_devices_of_others_morning',\n",
    "                 'bluetooth_std_num_scans_of_all_devices_of_others_afternoon',\n",
    "                 'bluetooth_std_num_scans_of_all_devices_of_others_evening',\n",
    "                 'bluetooth_std_num_scans_of_all_devices_of_others_night',\n",
    "                 'bluetooth_num_scans_of_least_frequent_device_of_self_allday',\n",
    "                 'bluetooth_num_scans_of_least_frequent_device_of_self_morning',\n",
    "                 'bluetooth_num_scans_of_least_frequent_device_of_self_afternoon',\n",
    "                 'bluetooth_num_scans_of_least_frequent_device_of_self_evening',\n",
    "                 'bluetooth_num_scans_of_least_frequent_device_of_self_night',\n",
    "                 'bluetooth_number_unique_devices_of_others_allday',\n",
    "                 'bluetooth_number_unique_devices_of_others_morning',\n",
    "                 'bluetooth_number_unique_devices_of_others_afternoon',\n",
    "                 'bluetooth_number_unique_devices_of_others_evening',\n",
    "                 'bluetooth_number_unique_devices_of_others_night',\n",
    "                 'bluetooth_num_scans_of_most_frequent_device_of_self_allday',\n",
    "                 'bluetooth_num_scans_of_most_frequent_device_of_self_morning',\n",
    "                 'bluetooth_num_scans_of_most_frequent_device_of_self_afternoon',\n",
    "                 'bluetooth_num_scans_of_most_frequent_device_of_self_evening',\n",
    "                 'bluetooth_num_scans_of_most_frequent_device_of_self_night',\n",
    "                 'bluetooth_std_num_scans_of_all_devices_of_self_allday',\n",
    "                 'bluetooth_std_num_scans_of_all_devices_of_self_morning',\n",
    "                 'bluetooth_std_num_scans_of_all_devices_of_self_afternoon',\n",
    "                 'bluetooth_std_num_scans_of_all_devices_of_self_evening',\n",
    "                 'bluetooth_std_num_scans_of_all_devices_of_self_night',\n",
    "                 'bluetooth_num_scans_of_least_frequent_device_allday',\n",
    "                 'bluetooth_num_scans_of_least_frequent_device_morning',\n",
    "                 'bluetooth_num_scans_of_least_frequent_device_afternoon',\n",
    "                 'bluetooth_num_scans_of_least_frequent_device_evening',\n",
    "                 'bluetooth_num_scans_of_least_frequent_device_night',\n",
    "                 'bluetooth_sum_num_scans_of_all_devices_of_others_allday',\n",
    "                 'bluetooth_sum_num_scans_of_all_devices_of_others_morning',\n",
    "                 'bluetooth_sum_num_scans_of_all_devices_of_others_afternoon',\n",
    "                 'bluetooth_sum_num_scans_of_all_devices_of_others_evening',\n",
    "                 'bluetooth_sum_num_scans_of_all_devices_of_others_night',\n",
    "                 'bluetooth_num_scans_of_least_frequent_device_of_others_allday',\n",
    "                 'bluetooth_num_scans_of_least_frequent_device_of_others_morning',\n",
    "                 'bluetooth_num_scans_of_least_frequent_device_of_others_afternoon',\n",
    "                 'bluetooth_num_scans_of_least_frequent_device_of_others_evening',\n",
    "                 'bluetooth_num_scans_of_least_frequent_device_of_others_night',\n",
    "                 'bluetooth_number_unique_devices_of_self_allday',\n",
    "                 'bluetooth_number_unique_devices_of_self_morning',\n",
    "                 'bluetooth_number_unique_devices_of_self_afternoon',\n",
    "                 'bluetooth_number_unique_devices_of_self_evening',\n",
    "                 'bluetooth_number_unique_devices_of_self_night',\n",
    "                 'bluetooth_number_unique_devices_allday',\n",
    "                 'bluetooth_number_unique_devices_morning',\n",
    "                 'bluetooth_number_unique_devices_afternoon',\n",
    "                 'bluetooth_number_unique_devices_evening',\n",
    "                 'bluetooth_number_unique_devices_night',\n",
    "                 'bluetooth_avg_num_scans_of_all_devices_of_self_allday',\n",
    "                 'bluetooth_avg_num_scans_of_all_devices_of_self_morning',\n",
    "                 'bluetooth_avg_num_scans_of_all_devices_of_self_afternoon',\n",
    "                 'bluetooth_avg_num_scans_of_all_devices_of_self_evening',\n",
    "                 'bluetooth_avg_num_scans_of_all_devices_of_self_night',\n",
    "                 'bluetooth_num_scans_of_most_frequent_device_of_others_allday',\n",
    "                 'bluetooth_num_scans_of_most_frequent_device_of_others_morning',\n",
    "                 'bluetooth_num_scans_of_most_frequent_device_of_others_afternoon',\n",
    "                 'bluetooth_num_scans_of_most_frequent_device_of_others_evening',\n",
    "                 'bluetooth_num_scans_of_most_frequent_device_of_others_night',\n",
    "                 'calls_number_missed_calls_allday',\n",
    "                 'calls_number_missed_calls_morning',\n",
    "                 'calls_number_missed_calls_afternoon',\n",
    "                 'calls_number_missed_calls_evening',\n",
    "                 'calls_number_missed_calls_night',\n",
    "                 'calls_duration_outgoing_calls_seconds_allday',\n",
    "                 'calls_duration_outgoing_calls_seconds_morning',\n",
    "                 'calls_duration_outgoing_calls_seconds_afternoon',\n",
    "                 'calls_duration_outgoing_calls_seconds_evening',\n",
    "                 'calls_duration_outgoing_calls_seconds_night',\n",
    "                 'calls_number_rows_calls_allday',\n",
    "                 'calls_number_rows_calls_morning',\n",
    "                 'calls_number_rows_calls_afternoon',\n",
    "                 'calls_number_rows_calls_evening',\n",
    "                 'calls_number_rows_calls_night',\n",
    "                 'calls_number_incoming_calls_allday',\n",
    "                 'calls_number_incoming_calls_morning',\n",
    "                 'calls_number_incoming_calls_afternoon',\n",
    "                 'calls_number_incoming_calls_evening',\n",
    "                 'calls_number_incoming_calls_night',\n",
    "                 'calls_duration_incoming_calls_seconds_allday',\n",
    "                 'calls_duration_incoming_calls_seconds_morning',\n",
    "                 'calls_duration_incoming_calls_seconds_afternoon',\n",
    "                 'calls_duration_incoming_calls_seconds_evening',\n",
    "                 'calls_duration_incoming_calls_seconds_night',\n",
    "                 'calls_number_outgoing_calls_allday',\n",
    "                 'calls_number_outgoing_calls_morning',\n",
    "                 'calls_number_outgoing_calls_afternoon',\n",
    "                 'calls_number_outgoing_calls_evening',\n",
    "                 'calls_number_outgoing_calls_night',\n",
    "                 'locations_location_variance_allday',\n",
    "                 'locations_location_variance_morning',\n",
    "                 'locations_location_variance_afternoon',\n",
    "                 'locations_location_variance_evening',\n",
    "                 'locations_location_variance_night',\n",
    "                 'locations_location_variance_log_allday',\n",
    "                 'locations_location_variance_log_morning',\n",
    "                 'locations_location_variance_log_afternoon',\n",
    "                 'locations_location_variance_log_evening',\n",
    "                 'locations_location_variance_log_night',\n",
    "                 'locations_location_entropy_local_allday',\n",
    "                 'locations_location_entropy_local_morning',\n",
    "                 'locations_location_entropy_local_afternoon',\n",
    "                 'locations_location_entropy_local_evening',\n",
    "                 'locations_location_entropy_local_night',\n",
    "                 'locations_location_entropy_normalized_local_allday',\n",
    "                 'locations_location_entropy_normalized_local_morning',\n",
    "                 'locations_location_entropy_normalized_local_afternoon',\n",
    "                 'locations_location_entropy_normalized_local_evening',\n",
    "                 'locations_location_entropy_normalized_local_night',\n",
    "                 'locations_location_entropy_normalized_allday',\n",
    "                 'locations_location_entropy_normalized_morning',\n",
    "                 'locations_location_entropy_normalized_afternoon',\n",
    "                 'locations_location_entropy_normalized_evening',\n",
    "                 'locations_location_entropy_normalized_night',\n",
    "                 'locations_location_entropy_allday',\n",
    "                 'locations_location_entropy_morning',\n",
    "                 'locations_location_entropy_afternoon',\n",
    "                 'locations_location_entropy_evening',\n",
    "                 'locations_location_entropy_night',\n",
    "                 'locations_radius_of_gyration_allday',\n",
    "                 'locations_radius_of_gyration_morning',\n",
    "                 'locations_radius_of_gyration_afternoon',\n",
    "                 'locations_radius_of_gyration_evening',\n",
    "                 'locations_radius_of_gyration_night',\n",
    "                 'locations_circadian_movement_allday',\n",
    "                 'locations_circadian_movement_morning',\n",
    "                 'locations_circadian_movement_afternoon',\n",
    "                 'locations_circadian_movement_evening',\n",
    "                 'locations_circadian_movement_night',\n",
    "                 'locations_number_location_transitions_allday',\n",
    "                 'locations_number_location_transitions_morning',\n",
    "                 'locations_number_location_transitions_afternoon',\n",
    "                 'locations_number_location_transitions_evening',\n",
    "                 'locations_number_location_transitions_night',\n",
    "                 'locations_number_of_clusters_local_allday',\n",
    "                 'locations_number_of_clusters_local_morning',\n",
    "                 'locations_number_of_clusters_local_afternoon',\n",
    "                 'locations_number_of_clusters_local_evening',\n",
    "                 'locations_number_of_clusters_local_night',\n",
    "                 'locations_number_of_clusters_allday',\n",
    "                 'locations_number_of_clusters_morning',\n",
    "                 'locations_number_of_clusters_afternoon',\n",
    "                 'locations_number_of_clusters_evening',\n",
    "                 'locations_number_of_clusters_night',\n",
    "                 'locations_mean_len_stay_at_clusters_in_minutes_local_allday',\n",
    "                 'locations_mean_len_stay_at_clusters_in_minutes_local_morning',\n",
    "                 'locations_mean_len_stay_at_clusters_in_minutes_local_afternoon',\n",
    "                 'locations_mean_len_stay_at_clusters_in_minutes_local_evening',\n",
    "                 'locations_mean_len_stay_at_clusters_in_minutes_local_night',\n",
    "                 'locations_std_len_stay_at_clusters_in_minutes_local_allday',\n",
    "                 'locations_std_len_stay_at_clusters_in_minutes_local_morning',\n",
    "                 'locations_std_len_stay_at_clusters_in_minutes_local_afternoon',\n",
    "                 'locations_std_len_stay_at_clusters_in_minutes_local_evening',\n",
    "                 'locations_std_len_stay_at_clusters_in_minutes_local_night',\n",
    "                 'locations_min_len_stay_at_clusters_in_minutes_local_allday',\n",
    "                 'locations_min_len_stay_at_clusters_in_minutes_local_morning',\n",
    "                 'locations_min_len_stay_at_clusters_in_minutes_local_afternoon',\n",
    "                 'locations_min_len_stay_at_clusters_in_minutes_local_evening',\n",
    "                 'locations_min_len_stay_at_clusters_in_minutes_local_night',\n",
    "                 'locations_max_len_stay_at_clusters_in_minutes_local_allday',\n",
    "                 'locations_max_len_stay_at_clusters_in_minutes_local_morning',\n",
    "                 'locations_max_len_stay_at_clusters_in_minutes_local_afternoon',\n",
    "                 'locations_max_len_stay_at_clusters_in_minutes_local_evening',\n",
    "                 'locations_max_len_stay_at_clusters_in_minutes_local_night',\n",
    "                 'locations_mean_len_stay_at_clusters_in_minutes_allday',\n",
    "                 'locations_mean_len_stay_at_clusters_in_minutes_morning',\n",
    "                 'locations_mean_len_stay_at_clusters_in_minutes_afternoon',\n",
    "                 'locations_mean_len_stay_at_clusters_in_minutes_evening',\n",
    "                 'locations_mean_len_stay_at_clusters_in_minutes_night',\n",
    "                 'locations_std_len_stay_at_clusters_in_minutes_allday',\n",
    "                 'locations_std_len_stay_at_clusters_in_minutes_morning',\n",
    "                 'locations_std_len_stay_at_clusters_in_minutes_afternoon',\n",
    "                 'locations_std_len_stay_at_clusters_in_minutes_evening',\n",
    "                 'locations_std_len_stay_at_clusters_in_minutes_night',\n",
    "                 'locations_min_len_stay_at_clusters_in_minutes_allday',\n",
    "                 'locations_min_len_stay_at_clusters_in_minutes_morning',\n",
    "                 'locations_min_len_stay_at_clusters_in_minutes_afternoon',\n",
    "                 'locations_min_len_stay_at_clusters_in_minutes_evening',\n",
    "                 'locations_min_len_stay_at_clusters_in_minutes_night',\n",
    "                 'locations_max_len_stay_at_clusters_in_minutes_allday',\n",
    "                 'locations_max_len_stay_at_clusters_in_minutes_morning',\n",
    "                 'locations_max_len_stay_at_clusters_in_minutes_afternoon',\n",
    "                 'locations_max_len_stay_at_clusters_in_minutes_evening',\n",
    "                 'locations_max_len_stay_at_clusters_in_minutes_night',\n",
    "                 'locations_time_at_cluster_1_local_allday',\n",
    "                 'locations_time_at_cluster_1_local_morning',\n",
    "                 'locations_time_at_cluster_1_local_afternoon',\n",
    "                 'locations_time_at_cluster_1_local_evening',\n",
    "                 'locations_time_at_cluster_1_local_night',\n",
    "                 'locations_time_at_cluster_2_local_allday',\n",
    "                 'locations_time_at_cluster_2_local_morning',\n",
    "                 'locations_time_at_cluster_2_local_afternoon',\n",
    "                 'locations_time_at_cluster_2_local_evening',\n",
    "                 'locations_time_at_cluster_2_local_night',\n",
    "                 'locations_time_at_cluster_3_local_allday',\n",
    "                 'locations_time_at_cluster_3_local_morning',\n",
    "                 'locations_time_at_cluster_3_local_afternoon',\n",
    "                 'locations_time_at_cluster_3_local_evening',\n",
    "                 'locations_time_at_cluster_3_local_night',\n",
    "                 'locations_time_at_cluster_1_in_group_allday',\n",
    "                 'locations_time_at_cluster_1_in_group_morning',\n",
    "                 'locations_time_at_cluster_1_in_group_afternoon',\n",
    "                 'locations_time_at_cluster_1_in_group_evening',\n",
    "                 'locations_time_at_cluster_1_in_group_night',\n",
    "                 'locations_time_at_cluster_2_in_group_allday',\n",
    "                 'locations_time_at_cluster_2_in_group_morning',\n",
    "                 'locations_time_at_cluster_2_in_group_afternoon',\n",
    "                 'locations_time_at_cluster_2_in_group_evening',\n",
    "                 'locations_time_at_cluster_2_in_group_night',\n",
    "                 'locations_time_at_cluster_3_in_group_allday',\n",
    "                 'locations_time_at_cluster_3_in_group_morning',\n",
    "                 'locations_time_at_cluster_3_in_group_afternoon',\n",
    "                 'locations_time_at_cluster_3_in_group_evening',\n",
    "                 'locations_time_at_cluster_3_in_group_night',\n",
    "                 'locations_time_at_cluster_1_allday',\n",
    "                 'locations_time_at_cluster_1_morning',\n",
    "                 'locations_time_at_cluster_1_afternoon',\n",
    "                 'locations_time_at_cluster_1_evening',\n",
    "                 'locations_time_at_cluster_1_night',\n",
    "                 'locations_time_at_cluster_2_allday',\n",
    "                 'locations_time_at_cluster_2_morning',\n",
    "                 'locations_time_at_cluster_2_afternoon',\n",
    "                 'locations_time_at_cluster_2_evening',\n",
    "                 'locations_time_at_cluster_2_night',\n",
    "                 'locations_time_at_cluster_3_allday',\n",
    "                 'locations_time_at_cluster_3_morning',\n",
    "                 'locations_time_at_cluster_3_afternoon',\n",
    "                 'locations_time_at_cluster_3_evening',\n",
    "                 'locations_time_at_cluster_3_night',\n",
    "                 'locations_speed_mean_meters_per_sec_allday',\n",
    "                 'locations_speed_mean_meters_per_sec_morning',\n",
    "                 'locations_speed_mean_meters_per_sec_afternoon',\n",
    "                 'locations_speed_mean_meters_per_sec_evening',\n",
    "                 'locations_speed_mean_meters_per_sec_night',\n",
    "                 'locations_speed_var_meters_per_sec_allday',\n",
    "                 'locations_speed_var_meters_per_sec_morning',\n",
    "                 'locations_speed_var_meters_per_sec_afternoon',\n",
    "                 'locations_speed_var_meters_per_sec_evening',\n",
    "                 'locations_speed_var_meters_per_sec_night',\n",
    "                 'locations_total_distance_meters_allday',\n",
    "                 'locations_total_distance_meters_morning',\n",
    "                 'locations_total_distance_meters_afternoon',\n",
    "                 'locations_total_distance_meters_evening',\n",
    "                 'locations_total_distance_meters_night',\n",
    "                 'locations_moving_time_percent_local_allday',\n",
    "                 'locations_moving_time_percent_local_morning',\n",
    "                 'locations_moving_time_percent_local_afternoon',\n",
    "                 'locations_moving_time_percent_local_evening',\n",
    "                 'locations_moving_time_percent_local_night',\n",
    "                 'locations_moving_time_percent_allday',\n",
    "                 'locations_moving_time_percent_morning',\n",
    "                 'locations_moving_time_percent_afternoon',\n",
    "                 'locations_moving_time_percent_evening',\n",
    "                 'locations_moving_time_percent_night',\n",
    "                 'locations_outliers_time_percent_allday',\n",
    "                 'locations_outliers_time_percent_morning',\n",
    "                 'locations_outliers_time_percent_afternoon',\n",
    "                 'locations_outliers_time_percent_evening',\n",
    "                 'locations_outliers_time_percent_night',\n",
    "                 'locations_outliers_time_percent_local_allday',\n",
    "                 'locations_outliers_time_percent_local_morning',\n",
    "                 'locations_outliers_time_percent_local_afternoon',\n",
    "                 'locations_outliers_time_percent_local_evening',\n",
    "                 'locations_outliers_time_percent_local_night',\n",
    "                 'locations_home_stay_time_percent_10m_allday',\n",
    "                 'locations_home_stay_time_percent_10m_morning',\n",
    "                 'locations_home_stay_time_percent_10m_afternoon',\n",
    "                 'locations_home_stay_time_percent_10m_evening',\n",
    "                 'locations_home_stay_time_percent_10m_night',\n",
    "                 'locations_home_stay_time_percent_100m_allday',\n",
    "                 'locations_home_stay_time_percent_100m_morning',\n",
    "                 'locations_home_stay_time_percent_100m_afternoon',\n",
    "                 'locations_home_stay_time_percent_100m_evening',\n",
    "                 'locations_home_stay_time_percent_100m_night', \n",
    "                 'screen_number_samples_screen_allday',\n",
    "                 'screen_number_samples_screen_morning',\n",
    "                 'screen_number_samples_screen_afternoon',\n",
    "                 'screen_number_samples_screen_evening',\n",
    "                 'screen_number_samples_screen_night',\n",
    "                 'screen_number_of_minutes_interaction_allday',\n",
    "                 'screen_number_of_minutes_interaction_morning',\n",
    "                 'screen_number_of_minutes_interaction_afternoon',\n",
    "                 'screen_number_of_minutes_interaction_evening',\n",
    "                 'screen_number_of_minutes_interaction_night',\n",
    "                 'screen_mean_len_minute_interaction_bout_allday',\n",
    "                 'screen_mean_len_minute_interaction_bout_morning',\n",
    "                 'screen_mean_len_minute_interaction_bout_afternoon',\n",
    "                 'screen_mean_len_minute_interaction_bout_evening',\n",
    "                 'screen_mean_len_minute_interaction_bout_night',\n",
    "                 'screen_std_len_minute_interaction_bout_allday',\n",
    "                 'screen_std_len_minute_interaction_bout_morning',\n",
    "                 'screen_std_len_minute_interaction_bout_afternoon',\n",
    "                 'screen_std_len_minute_interaction_bout_evening',\n",
    "                 'screen_std_len_minute_interaction_bout_night',\n",
    "                 'screen_min_len_minute_interaction_bout_allday',\n",
    "                 'screen_min_len_minute_interaction_bout_morning',\n",
    "                 'screen_min_len_minute_interaction_bout_afternoon',\n",
    "                 'screen_min_len_minute_interaction_bout_evening',\n",
    "                 'screen_min_len_minute_interaction_bout_night',\n",
    "                 'screen_max_len_minute_interaction_bout_allday',\n",
    "                 'screen_max_len_minute_interaction_bout_morning',\n",
    "                 'screen_max_len_minute_interaction_bout_afternoon',\n",
    "                 'screen_max_len_minute_interaction_bout_evening',\n",
    "                 'screen_max_len_minute_interaction_bout_night',\n",
    "                 'screen_number_of_minutes_unlock_allday',\n",
    "                 'screen_number_of_minutes_unlock_morning',\n",
    "                 'screen_number_of_minutes_unlock_afternoon',\n",
    "                 'screen_number_of_minutes_unlock_evening',\n",
    "                 'screen_number_of_minutes_unlock_night',\n",
    "                 'screen_mean_len_minute_unlock_bout_allday',\n",
    "                 'screen_mean_len_minute_unlock_bout_morning',\n",
    "                 'screen_mean_len_minute_unlock_bout_afternoon',\n",
    "                 'screen_mean_len_minute_unlock_bout_evening',\n",
    "                 'screen_mean_len_minute_unlock_bout_night',\n",
    "                 'screen_std_len_minute_unlock_bout_allday',\n",
    "                 'screen_std_len_minute_unlock_bout_morning',\n",
    "                 'screen_std_len_minute_unlock_bout_afternoon',\n",
    "                 'screen_std_len_minute_unlock_bout_evening',\n",
    "                 'screen_std_len_minute_unlock_bout_night',\n",
    "                 'screen_min_len_minute_unlock_bout_allday',\n",
    "                 'screen_min_len_minute_unlock_bout_morning',\n",
    "                 'screen_min_len_minute_unlock_bout_afternoon',\n",
    "                 'screen_min_len_minute_unlock_bout_evening',\n",
    "                 'screen_min_len_minute_unlock_bout_night',\n",
    "                 'screen_max_len_minute_unlock_bout_allday',\n",
    "                 'screen_max_len_minute_unlock_bout_morning',\n",
    "                 'screen_max_len_minute_unlock_bout_afternoon',\n",
    "                 'screen_max_len_minute_unlock_bout_evening',\n",
    "                 'screen_max_len_minute_unlock_bout_night',\n",
    "                 'screen_unlocks_per_minute_allday',\n",
    "                 'screen_unlocks_per_minute_morning',\n",
    "                 'screen_unlocks_per_minute_afternoon',\n",
    "                 'screen_unlocks_per_minute_evening',\n",
    "                 'screen_unlocks_per_minute_night',\n",
    "                 'wifi_number_unique_wifi_hotspots_allday',\n",
    "                 'wifi_number_unique_wifi_hotspots_morning',\n",
    "                 'wifi_number_unique_wifi_hotspots_afternoon',\n",
    "                 'wifi_number_unique_wifi_hotspots_evening',\n",
    "                 'wifi_number_unique_wifi_hotspots_night',\n",
    "                 'wifi_number_samples_wifi_allday',\n",
    "                 'wifi_number_samples_wifi_morning',\n",
    "                 'wifi_number_samples_wifi_afternoon',\n",
    "                 'wifi_number_samples_wifi_evening',\n",
    "                 'wifi_number_samples_wifi_night',\n",
    "                 'totalTimeInBed',\n",
    "                 'totalMinutesAsleep',\n",
    "                 'totalSleepRecords',\n",
    "                 'minutesToFallAsleep_main',\n",
    "                 'minutesAwake_main',\n",
    "                 'timeInBed_main',\n",
    "                 'minutesAsleep_main',\n",
    "                 'efficiency_main',\n",
    "                 'duration_main',\n",
    "                 'minutesAfterWakeup_main',\n",
    "                 'minutesToFallAsleep_other_aggregated',\n",
    "                 'minutesAwake_other_aggregated',\n",
    "                 'timeInBed_other_aggregated',\n",
    "                 'minutesAsleep_other_aggregated',\n",
    "                 'efficiency_other_aggregated',\n",
    "                 'duration_other_aggregated',\n",
    "                 'minutesAfterWakeup_other_aggregated',\n",
    "                 'steps']"
   ]
  },
  {
   "cell_type": "code",
   "execution_count": null,
   "metadata": {},
   "outputs": [],
   "source": [
    "summary_sensor = data.groupby(by=['PID', 'day_of_discrimination'])[sensor_metrics].mean()\n",
    "grand_sensor = summary_sensor.reset_index().groupby(by=['day_of_discrimination'])[sensor_metrics].mean()"
   ]
  },
  {
   "cell_type": "code",
   "execution_count": null,
   "metadata": {},
   "outputs": [],
   "source": [
    "fig, ax = plt.subplots(len(sensor_metrics), 1, figsize=(8, 900))\n",
    "for ind, metric in enumerate(sensor_metrics):\n",
    "    grand_sensor[metric].plot(ax=ax[ind])\n",
    "    ax[ind].set_title(metric)"
   ]
  },
  {
   "cell_type": "code",
   "execution_count": null,
   "metadata": {},
   "outputs": [],
   "source": [
    "pids = set([item[0] for item in summary_sensor.index.values])\n",
    "fig, ax = plt.subplots(len(pids), 1, figsize=(8, 420))\n",
    "for ind, pid in enumerate(pids):\n",
    "    summary_sensor.loc[pid, 'steps'].plot(ax=ax[ind])\n",
    "    ax[ind].set_xlabel('PID{0:03d}'.format(pid))"
   ]
  },
  {
   "cell_type": "code",
   "execution_count": null,
   "metadata": {},
   "outputs": [],
   "source": [
    "data.groupby(by=['day_of_discrimination']).size()\n",
    "# as expected number of days labeled as day of discrimiantion is the max followed by next day, next 2 days and so on"
   ]
  },
  {
   "cell_type": "code",
   "execution_count": null,
   "metadata": {},
   "outputs": [],
   "source": [
    "data[(data['same_day'] == 1) & (data['next_day'] == 1)].shape\n",
    "# shape[0] is the number of consecutive discrimiantion events"
   ]
  },
  {
   "cell_type": "code",
   "execution_count": null,
   "metadata": {},
   "outputs": [],
   "source": [
    "dieoff = pd.DataFrame({'Morning Screen Use' : [0.03, 0.35, 0.01, 0.82, 0.87, 0.52, None], \n",
    "'Calls (mean of out/in evening)' : [0.20, 0.14, 0.36, None, 0.71, 0.76, 0.97], \n",
    "'Total Minutes Asleep' : [0.16, 0.70, 0.60, 0.01, None, 0.59, 0.20], \n",
    "'Time in Bed' : [0.11, 0.77, 0.67, None, None, 0.66, None], \n",
    "'Range of Activities during day' : [0.05, 0.20, 0.37, 0.21, None, 0.33, 0.07], \n",
    "'Number of steps' : [0.04, 0.83, 0.45, 0.04, 0.74, 0.73, 0.66], \n",
    "'Anxious' : [0.03, 0.35, 0.08, 0.99, 0.04, 0.84, 0.32], \n",
    "'Depressed' : [0, 0.00, 0.29, 0.6, 0.88, 0.95, 0.40], \n",
    "'Frustrated' : [0.0001, 0.03, 0.62, 0.49, 0.17, 0.55, 0.06]})"
   ]
  },
  {
   "cell_type": "code",
   "execution_count": null,
   "metadata": {},
   "outputs": [],
   "source": [
    "fig, ax = plt.subplots(1, 1, figsize=(10, 6))\n",
    "dieoff[0:3].plot(kind='bar', ax=ax)\n",
    "ax.set_title('Significance of Short-term relations over Days 0-2', fontsize=22)\n",
    "ax.set_xlabel('Days from Discrimination', fontsize=18)\n",
    "ax.set_ylabel('Confidence (p-values)', fontsize=18)"
   ]
  },
  {
   "cell_type": "code",
   "execution_count": null,
   "metadata": {},
   "outputs": [],
   "source": []
  }
 ],
 "metadata": {
  "kernelspec": {
   "display_name": "Python 3",
   "language": "python",
   "name": "python3"
  },
  "language_info": {
   "codemirror_mode": {
    "name": "ipython",
    "version": 3
   },
   "file_extension": ".py",
   "mimetype": "text/x-python",
   "name": "python",
   "nbconvert_exporter": "python",
   "pygments_lexer": "ipython3",
   "version": "3.6.8"
  },
  "toc": {
   "base_numbering": 1,
   "nav_menu": {},
   "number_sections": true,
   "sideBar": true,
   "skip_h1_title": false,
   "title_cell": "Table of Contents",
   "title_sidebar": "Contents",
   "toc_cell": false,
   "toc_position": {},
   "toc_section_display": true,
   "toc_window_display": false
  }
 },
 "nbformat": 4,
 "nbformat_minor": 2
}
