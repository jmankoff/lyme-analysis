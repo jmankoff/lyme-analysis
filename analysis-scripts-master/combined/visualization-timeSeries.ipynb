{
 "cells": [
  {
   "cell_type": "code",
   "execution_count": 1,
   "metadata": {},
   "outputs": [],
   "source": [
    "import pandas as pd\n",
    "import numpy as np\n",
    "import matplotlib.pyplot as plt"
   ]
  },
  {
   "cell_type": "code",
   "execution_count": 2,
   "metadata": {},
   "outputs": [
    {
     "name": "stderr",
     "output_type": "stream",
     "text": [
      "/anaconda3/lib/python3.6/site-packages/IPython/core/interactiveshell.py:2728: DtypeWarning: Columns (37) have mixed types. Specify dtype option on import or set low_memory=False.\n",
      "  interactivity=interactivity, compiler=compiler, result=result)\n"
     ]
    }
   ],
   "source": [
    "# read data\n",
    "#data_file = '/Users/yasaman/UWEXP/analysis-scripts/combined/results/bigtable_UWonly.csv'\n",
    "data_file = '/Users/yasaman/UWEXP/analysis-scripts/surveys/results/emaaggregation/aggregated-horizontal-numVal-internalID.csv'\n",
    "#PIDs2remove = ['018', '026', '027', '041', '053', '056', '069', '071', '081', '083', '085', '089', '100', '101', '107', \n",
    "#               '112', '114', '119', '121', '129', '131', '133', '135', '139', '141', '147', '152', '164', '182', '192', \n",
    "#               '197', '200', '208']\n",
    "PIDs2remove = [18, 26, 27, 41, 53, 56, 69, 71, 81, 83, 85, 89, 100, 101, 107, 112, 114, 119, 121, 129, 131, 133, 135, \n",
    "               139, 141, 147, 152, 164, 182, 192, 197, 200, 208]\n",
    "data = pd.read_csv(data_file)\n",
    "data = data[~data['PID'].isin(PIDs2remove)]"
   ]
  },
  {
   "cell_type": "code",
   "execution_count": null,
   "metadata": {},
   "outputs": [],
   "source": [
    "# prepare data for visualization\n",
    "# NOTE sorting ensurs shifting works as expected in terms of aligning discrimination events to next day values\n",
    "data['discriminated_shifted_1'] = data['discriminated'].shift(periods=1)\n",
    "# TO-DO may want to include other additional shifts (for example next two days)\n",
    "# tested aligned using the following\n",
    "#df = data[(data['date'] > pd.to_datetime('2018-01-08')) & (data['date'] < pd.to_datetime('2018-06-04'))]\n",
    "#df[['PID', \n",
    "#    'date', \n",
    "#    'day', \n",
    "#    'discriminated', \n",
    "#    'discriminated_shifted_1', \n",
    "#    'feel_anxious_morning', \n",
    "#    'feel_anxious_weekly']][df['PID'] == 1]"
   ]
  },
  {
   "cell_type": "code",
   "execution_count": 16,
   "metadata": {},
   "outputs": [
    {
     "data": {
      "text/plain": [
       "DatetimeIndex(['2018-01-07', '2018-01-10', '2018-01-14', '2018-01-17',\n",
       "               '2018-01-21', '2018-01-24', '2018-01-28', '2018-01-31',\n",
       "               '2018-02-01', '2018-02-02', '2018-02-03', '2018-02-04',\n",
       "               '2018-02-05', '2018-02-06', '2018-02-07', '2018-02-11',\n",
       "               '2018-02-14', '2018-02-18', '2018-02-21', '2018-02-25',\n",
       "               '2018-02-28', '2018-03-01', '2018-03-02', '2018-03-03',\n",
       "               '2018-03-04', '2018-03-05', '2018-03-06', '2018-03-07',\n",
       "               '2018-03-11', '2018-03-14', '2018-03-18', '2018-03-21',\n",
       "               '2018-03-25', '2018-03-28', '2018-04-01', '2018-04-04',\n",
       "               '2018-04-08', '2018-04-11', '2018-04-15', '2018-04-18',\n",
       "               '2018-04-19', '2018-04-20', '2018-04-21', '2018-04-22',\n",
       "               '2018-04-23', '2018-04-24', '2018-04-25', '2018-04-29',\n",
       "               '2018-05-02', '2018-05-06', '2018-05-09', '2018-05-13',\n",
       "               '2018-05-16', '2018-05-17', '2018-05-18', '2018-05-19',\n",
       "               '2018-05-20', '2018-05-21', '2018-05-22', '2018-05-23',\n",
       "               '2018-05-27', '2018-05-30', '2018-06-03'],\n",
       "              dtype='datetime64[ns]', freq=None)"
      ]
     },
     "execution_count": 16,
     "metadata": {},
     "output_type": "execute_result"
    }
   ],
   "source": [
    "# TO-DO this should be incorporated in the survey_datetimes.csv and included in the EMA data in EMAprep notebook\n",
    "surveyIDs = {'1/7/18': 0, '1/10/18': 1, '1/14/18': 2, '1/17/18': 3, '1/21/18': 4, '1/24/18': 5, '1/28/18': 6, \n",
    "             '1/31/18': 7, '2/1/18': 8, '2/2/18': 9, '2/3/18': 10, '2/4/18': 11, '2/5/18': 12, '2/6/18': 13, \n",
    "             '2/7/18': 14, '2/11/18': 15, '2/14/18': 16, '2/18/18': 17, '2/21/18': 18, '2/25/18': 19, '2/28/18': 20, \n",
    "             '3/1/18': 21, '3/2/18': 22, '3/3/18': 23, '3/4/18': 24, '3/5/18': 25, '3/6/18': 26, '3/7/18': 27, \n",
    "             '3/11/18': 28, '3/14/18': 29, '3/18/18': 30, '3/21/18': 31, '3/25/18': 32, '3/28/18': 33, '4/1/18': 34, \n",
    "             '4/4/18': 35, '4/8/18': 36, '4/11/18': 37, '4/15/18': 38, '4/18/18': 39, '4/19/18': 40, '4/20/18': 41, \n",
    "             '4/21/18': 42, '4/22/18': 43, '4/23/18': 44, '4/24/18': 45, '4/25/18': 46, '4/29/18': 47, '5/2/18': 48, \n",
    "             '5/6/18': 49, '5/9/18': 50, '5/13/18': 51, '5/16/18': 52, '5/17/18': 53, '5/18/18': 54, '5/19/18': 55, \n",
    "             '5/20/18': 56, '5/21/18': 57, '5/22/18': 58, '5/23/18': 59, '5/27/18': 60, '5/30/18': 61, '6/3/18': 62}\n",
    "pd.to_datetime(list(surveyIDs.keys()))"
   ]
  },
  {
   "cell_type": "code",
   "execution_count": null,
   "metadata": {},
   "outputs": [],
   "source": [
    "columns = list(data.columns)\n",
    "columns"
   ]
  },
  {
   "cell_type": "code",
   "execution_count": null,
   "metadata": {},
   "outputs": [],
   "source": [
    "surveys = ['morning', 'midday1', 'midday2', 'evening', 'weekly']\n",
    "affect_items = ['anxious', 'depressed', 'frustrated', 'overwhelmed', 'lonely', 'happy', 'connected']\n",
    "affect_columns = ['feel_'+affect+'_'+survey for affect in affect_items for survey in surveys]"
   ]
  },
  {
   "cell_type": "code",
   "execution_count": null,
   "metadata": {},
   "outputs": [],
   "source": [
    "data_affect = data[['PID', 'date', 'day', 'discriminated', 'discriminated_shifted_1'] + affect_columns]"
   ]
  },
  {
   "cell_type": "code",
   "execution_count": null,
   "metadata": {},
   "outputs": [],
   "source": [
    "# TO-DO averaging daily affect ratings should be added to EMA aggregation\n",
    "for affect in affect_items:\n",
    "    base = 'feel_'+affect+'_'\n",
    "    day = base+'daily'\n",
    "    data_affect[day] = data_affect[[base+survey for survey in surveys if survey != 'weekly']].mean(axis=1)"
   ]
  },
  {
   "cell_type": "code",
   "execution_count": null,
   "metadata": {},
   "outputs": [],
   "source": [
    "data_affect1 = data_affect[data_affect['PID'] == 1][['date', 'day', 'feel_anxious_daily', 'discriminated']]"
   ]
  },
  {
   "cell_type": "code",
   "execution_count": null,
   "metadata": {},
   "outputs": [],
   "source": [
    "fig, ax = plt.subplots(1, 1)\n",
    "ax = data_affect1[data_affect1['feel_anxious_daily'].notnull()].plot(x='day', y='feel_anxious_daily', ax = ax)\n",
    "ax = data_affect1[data_affect1['discriminated']=='YES'].plot.scatter(x='day', y='feel_anxious_daily', ax = ax)"
   ]
  },
  {
   "cell_type": "code",
   "execution_count": 10,
   "metadata": {},
   "outputs": [
    {
     "data": {
      "text/plain": [
       "array(['2018-01-10T00:00:00.000000000', '2018-01-17T00:00:00.000000000',\n",
       "       '2018-01-21T00:00:00.000000000', '2018-01-24T00:00:00.000000000',\n",
       "       '2018-01-28T00:00:00.000000000', '2018-02-07T00:00:00.000000000',\n",
       "       '2018-02-11T00:00:00.000000000', '2018-02-14T00:00:00.000000000',\n",
       "       '2018-02-18T00:00:00.000000000', '2018-02-21T00:00:00.000000000',\n",
       "       '2018-02-25T00:00:00.000000000', '2018-03-07T00:00:00.000000000',\n",
       "       '2018-03-14T00:00:00.000000000', '2018-03-18T00:00:00.000000000',\n",
       "       '2018-03-21T00:00:00.000000000', '2018-03-28T00:00:00.000000000',\n",
       "       '2018-04-01T00:00:00.000000000', '2018-04-04T00:00:00.000000000',\n",
       "       '2018-04-11T00:00:00.000000000', '2018-04-15T00:00:00.000000000',\n",
       "       '2018-04-25T00:00:00.000000000', '2018-05-02T00:00:00.000000000',\n",
       "       '2018-05-06T00:00:00.000000000', '2018-05-09T00:00:00.000000000',\n",
       "       '2018-05-13T00:00:00.000000000', '2018-05-23T00:00:00.000000000',\n",
       "       '2018-05-27T00:00:00.000000000', '2018-05-30T00:00:00.000000000',\n",
       "       '2018-06-03T00:00:00.000000000', '2018-01-07T00:00:00.000000000',\n",
       "       '2018-01-11T00:00:00.000000000', '2018-01-14T00:00:00.000000000',\n",
       "       '2018-03-11T00:00:00.000000000', '2018-04-08T00:00:00.000000000',\n",
       "       '2018-04-29T00:00:00.000000000', '2018-01-12T00:00:00.000000000',\n",
       "       '2018-01-22T00:00:00.000000000', '2018-05-10T00:00:00.000000000'],\n",
       "      dtype='datetime64[ns]')"
      ]
     },
     "execution_count": 10,
     "metadata": {},
     "output_type": "execute_result"
    }
   ],
   "source": [
    "data[data['feel_anxious_weekly'].notnull()]['date'].unique()"
   ]
  },
  {
   "cell_type": "code",
   "execution_count": null,
   "metadata": {},
   "outputs": [],
   "source": []
  }
 ],
 "metadata": {
  "kernelspec": {
   "display_name": "Python 3",
   "language": "python",
   "name": "python3"
  },
  "language_info": {
   "codemirror_mode": {
    "name": "ipython",
    "version": 3
   },
   "file_extension": ".py",
   "mimetype": "text/x-python",
   "name": "python",
   "nbconvert_exporter": "python",
   "pygments_lexer": "ipython3",
   "version": "3.6.4"
  },
  "toc": {
   "base_numbering": 1,
   "nav_menu": {},
   "number_sections": true,
   "sideBar": true,
   "skip_h1_title": false,
   "title_cell": "Table of Contents",
   "title_sidebar": "Contents",
   "toc_cell": false,
   "toc_position": {},
   "toc_section_display": true,
   "toc_window_display": false
  }
 },
 "nbformat": 4,
 "nbformat_minor": 2
}
