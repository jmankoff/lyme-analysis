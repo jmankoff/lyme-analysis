{
 "cells": [
  {
   "cell_type": "code",
   "execution_count": 52,
   "metadata": {},
   "outputs": [],
   "source": [
    "import pandas as pd\n",
    "import numpy as np\n",
    "import io, os, sys, types\n",
    "from IPython import get_ipython\n",
    "from nbformat import read\n",
    "from IPython.core.interactiveshell import InteractiveShell\n",
    "from IPython.core.display import HTML\n",
    "from scipy.stats import ttest_rel\n",
    "import matplotlib.pyplot as plt\n",
    "import copy\n",
    "import json\n",
    "import csv\n",
    "import ast\n",
    "import statsmodels.api as sm\n",
    "import statsmodels.formula.api as smf\n",
    "from scipy import stats\n",
    "\n",
    "get_ipython().magic(u'matplotlib inline')"
   ]
  },
  {
   "cell_type": "code",
   "execution_count": 133,
   "metadata": {},
   "outputs": [],
   "source": [
    "path_to_folder = r\"C:\\Users\\orson\\Desktop\\Myself\\HCI\\UWiSchool\\Projects\\UWEXP\\Data\\UWCMU_baseline_cleaned\"\n",
    "merge_file_name = \"merged_by_row_uw.csv\""
   ]
  },
  {
   "cell_type": "code",
   "execution_count": 134,
   "metadata": {},
   "outputs": [],
   "source": [
    "df_uw = pd.read_csv(path_to_folder + \"/\" + merge_file_name)"
   ]
  },
  {
   "cell_type": "code",
   "execution_count": 88,
   "metadata": {},
   "outputs": [],
   "source": [
    "df_uw_pre1 = df_uw[df_uw[\"survey_type\"] == \"baseline1\"]\n",
    "df_uw_pre2 = df_uw[df_uw[\"survey_type\"] == \"baseline2\"]\n",
    "df_uw_post = df_uw[df_uw[\"survey_type\"] == \"post\"]"
   ]
  },
  {
   "cell_type": "code",
   "execution_count": 89,
   "metadata": {},
   "outputs": [
    {
     "name": "stdout",
     "output_type": "stream",
     "text": [
      "(209, 713) (208, 713) (175, 713)\n"
     ]
    }
   ],
   "source": [
    "print(df_uw_pre1.shape,df_uw_pre2.shape, df_uw_post.shape)"
   ]
  },
  {
   "cell_type": "code",
   "execution_count": 114,
   "metadata": {},
   "outputs": [],
   "source": [
    "post_pid = list(set(df_uw_post.PID))"
   ]
  },
  {
   "cell_type": "code",
   "execution_count": 91,
   "metadata": {},
   "outputs": [],
   "source": [
    "female = df_uw_pre1[df_uw_pre1.Gender == 2]"
   ]
  },
  {
   "cell_type": "code",
   "execution_count": 92,
   "metadata": {},
   "outputs": [],
   "source": [
    "eng = df_uw_pre1[df_uw_pre1.Engineer == 1]"
   ]
  },
  {
   "cell_type": "code",
   "execution_count": 93,
   "metadata": {},
   "outputs": [],
   "source": [
    "urm = df_uw_pre1[df_uw_pre1.URM == 1]"
   ]
  },
  {
   "cell_type": "code",
   "execution_count": 100,
   "metadata": {},
   "outputs": [],
   "source": [
    "business = df_uw_pre1[(df_uw_pre1.Business == 1)]"
   ]
  },
  {
   "cell_type": "code",
   "execution_count": 101,
   "metadata": {},
   "outputs": [],
   "source": [
    "artsci = df_uw_pre1[(df_uw_pre1.ArtSci == 1)]"
   ]
  },
  {
   "cell_type": "code",
   "execution_count": 102,
   "metadata": {},
   "outputs": [],
   "source": [
    "other_major = df_uw_pre1[~(df_uw_pre1.Business == 1) & ~(df_uw_pre1.ArtSci == 1) & ~(df_uw_pre1.Engineer == 1)]"
   ]
  },
  {
   "cell_type": "code",
   "execution_count": 104,
   "metadata": {},
   "outputs": [
    {
     "data": {
      "text/plain": [
       "221"
      ]
     },
     "execution_count": 104,
     "metadata": {},
     "output_type": "execute_result"
    }
   ],
   "source": [
    "28 + eng.shape[0] + business.shape[0] + artsci.shape[0]"
   ]
  },
  {
   "cell_type": "code",
   "execution_count": 106,
   "metadata": {},
   "outputs": [
    {
     "name": "stdout",
     "output_type": "stream",
     "text": [
      "{131}\n",
      "set()\n",
      "{161, 162, 191, 164, 193, 7, 200, 12, 148, 127, 159}\n"
     ]
    }
   ],
   "source": [
    "print(set(business.PID).intersection(set(artsci.PID)))\n",
    "print(set(business.PID).intersection(set(eng.PID)))\n",
    "print(set(eng.PID).intersection(set(artsci.PID)))"
   ]
  },
  {
   "cell_type": "code",
   "execution_count": 126,
   "metadata": {},
   "outputs": [],
   "source": [
    "def percentage_gender_info(df):\n",
    "    perc = df.shape[0] / (df_uw_pre1.shape[0] + 0.0)\n",
    "    ages = df.Age\n",
    "    age_mean = ages.mean()\n",
    "    age_std = ages.std()\n",
    "    age_min = ages.min()\n",
    "    age_max = ages.max()\n",
    "    return [df.shape[0], round(perc,3), age_min, age_max, round(age_mean,3), round(age_std,3)]"
   ]
  },
  {
   "cell_type": "code",
   "execution_count": 137,
   "metadata": {},
   "outputs": [],
   "source": [
    "d = []\n",
    "for t, i in zip([\"female\", \"urm\", \"eng\", \"artsci\", \"business\", \"other_major\"],\n",
    "             [female, urm, eng, artsci, business, other_major]):\n",
    "    info = copy.deepcopy(percentage_gender_info(i))\n",
    "    d.append([t] + info)\n",
    "d = pd.DataFrame(d,columns = [\"type\",\"num\",\"perc\",\"min age\", \"max age\", \"age mean\", \"age std\"])\n",
    "d.to_csv(path_to_folder + \"/pre_info.csv\",index = False)"
   ]
  },
  {
   "cell_type": "code",
   "execution_count": 138,
   "metadata": {},
   "outputs": [],
   "source": [
    "d = []\n",
    "for t, i in zip([\"female\", \"urm\", \"eng\", \"artsci\", \"business\", \"other_major\"],\n",
    "             [female, urm, eng, artsci, business, other_major]):\n",
    "    df = copy.deepcopy(i)\n",
    "    df = df[df[\"PID\"].apply(lambda x : x in post_pid)]\n",
    "    info = copy.deepcopy(percentage_gender_info(df))\n",
    "    d.append([t] + info)\n",
    "d = pd.DataFrame(d,columns = [\"type\",\"num\",\"perc\",\"min age\", \"max age\", \"age mean\", \"age std\"])\n",
    "d.to_csv(path_to_folder + \"/post_info.csv\",index = False)"
   ]
  },
  {
   "cell_type": "code",
   "execution_count": null,
   "metadata": {},
   "outputs": [],
   "source": []
  }
 ],
 "metadata": {
  "kernelspec": {
   "display_name": "Python 3",
   "language": "python",
   "name": "python3"
  },
  "language_info": {
   "codemirror_mode": {
    "name": "ipython",
    "version": 3
   },
   "file_extension": ".py",
   "mimetype": "text/x-python",
   "name": "python",
   "nbconvert_exporter": "python",
   "pygments_lexer": "ipython3",
   "version": "3.6.4"
  },
  "toc": {
   "base_numbering": 1,
   "nav_menu": {},
   "number_sections": true,
   "sideBar": true,
   "skip_h1_title": false,
   "title_cell": "Table of Contents",
   "title_sidebar": "Contents",
   "toc_cell": false,
   "toc_position": {},
   "toc_section_display": true,
   "toc_window_display": false
  }
 },
 "nbformat": 4,
 "nbformat_minor": 2
}
