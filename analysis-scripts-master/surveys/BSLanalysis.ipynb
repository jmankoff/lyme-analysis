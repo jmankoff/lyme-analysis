{
 "cells": [
  {
   "cell_type": "code",
   "execution_count": null,
   "metadata": {},
   "outputs": [],
   "source": [
    "import pandas as pd"
   ]
  },
  {
   "cell_type": "markdown",
   "metadata": {},
   "source": [
    "NOTE: the ranges for each category are assumed to be inclusie on both ends"
   ]
  },
  {
   "cell_type": "code",
   "execution_count": null,
   "metadata": {},
   "outputs": [],
   "source": [
    "baseline_scores_file = '/Users/yasaman/UWEXP/analysis-scripts/surveys/results/baselines/baseline_scores.csv'\n",
    "scale_scores = {'CES_D': 'CES_D_POST', 'BDI_II': 'BDI_II_POST', 'PSS': 'PSS_POST'} # ideally the scores are named the same as scales so this mapping is not needed\n",
    "categorization_config = {\n",
    "    'CES_D' : {\"name\" : \"depressed_cesd_post\", \"rule\": {(0, 16) : \"NO\", (17, 60) : \"YES\"}}, \n",
    "    'BDI_II' : {\"name\" : \"depressed_bdi_post\", \"rule\" : {(0, 13) : \"NOT\", (14, 19) : \"LOW\", (20, 28) : \"MID\", (29, 63) : \"HIG\"}},\n",
    "    'PSS' : {\"name\": \"stressed_pss_post\", \"rule\": {(0, 19) : \"NO\", (20, 40) : \"YES\"}}\n",
    "}\n",
    "baseline_scores_with_univ_pid = '/Users/yasaman/UWEXP/analysis-scripts/surveys/results/baselines/baseline_scores_univ_pid.csv'\n",
    "baseline_scores_with_univ_pid_categorized = '/Users/yasaman/UWEXP/analysis-scripts/surveys/results/baselines/baseline_scores_univ_pid_categorized.csv'"
   ]
  },
  {
   "cell_type": "markdown",
   "metadata": {},
   "source": [
    "# participant ID and institution columns"
   ]
  },
  {
   "cell_type": "code",
   "execution_count": null,
   "metadata": {},
   "outputs": [],
   "source": [
    "baseline_scores = pd.read_csv(baseline_scores_file)"
   ]
  },
  {
   "cell_type": "code",
   "execution_count": null,
   "metadata": {},
   "outputs": [],
   "source": [
    "baseline_scores['institution'] = baseline_scores['PID'].apply(lambda x : x.split('_')[1])\n",
    "baseline_scores.loc[:, 'PID'] = baseline_scores['PID'].apply(lambda x : x.split('_')[0])"
   ]
  },
  {
   "cell_type": "code",
   "execution_count": null,
   "metadata": {},
   "outputs": [],
   "source": [
    "columns = list(baseline_scores.columns)\n",
    "columns.remove('institution')\n",
    "columns.remove('PID')\n",
    "reordered_columns = ['PID', 'institution']\n",
    "reordered_columns.extend(columns)\n",
    "baseline_scores = baseline_scores[reordered_columns]"
   ]
  },
  {
   "cell_type": "code",
   "execution_count": null,
   "metadata": {},
   "outputs": [],
   "source": [
    "baseline_scores.to_csv(baseline_scores_with_univ_pid, index=False)"
   ]
  },
  {
   "cell_type": "markdown",
   "metadata": {},
   "source": [
    "# categorization columns"
   ]
  },
  {
   "cell_type": "code",
   "execution_count": null,
   "metadata": {},
   "outputs": [],
   "source": [
    "def categorize(scores, categorization):\n",
    "    intervals = pd.IntervalIndex.from_tuples(categorization.keys(), closed='both')\n",
    "    intervals_labels = dict(zip(intervals.values, categorization.values()))\n",
    "    categories = pd.cut(scores, intervals, labels=categorization.values())\n",
    "    # but labels are ignored so I have to correct that\n",
    "    return categories.replace(intervals_labels)"
   ]
  },
  {
   "cell_type": "code",
   "execution_count": null,
   "metadata": {},
   "outputs": [],
   "source": [
    "for scale in scale_scores:\n",
    "    baseline_scores[categorization_config[scale]['name']] = categorize(baseline_scores[scale_scores[scale]], \n",
    "                                                                       categorization_config[scale]['rule'])"
   ]
  },
  {
   "cell_type": "code",
   "execution_count": null,
   "metadata": {},
   "outputs": [],
   "source": [
    "baseline_scores.to_csv(baseline_scores_with_univ_pid_categorized, index=False)"
   ]
  },
  {
   "cell_type": "code",
   "execution_count": null,
   "metadata": {},
   "outputs": [],
   "source": []
  }
 ],
 "metadata": {
  "kernelspec": {
   "display_name": "Python 3",
   "language": "python",
   "name": "python3"
  },
  "language_info": {
   "codemirror_mode": {
    "name": "ipython",
    "version": 3
   },
   "file_extension": ".py",
   "mimetype": "text/x-python",
   "name": "python",
   "nbconvert_exporter": "python",
   "pygments_lexer": "ipython3",
   "version": "3.6.4"
  },
  "toc": {
   "base_numbering": 1,
   "nav_menu": {},
   "number_sections": true,
   "sideBar": true,
   "skip_h1_title": false,
   "title_cell": "Table of Contents",
   "title_sidebar": "Contents",
   "toc_cell": false,
   "toc_position": {},
   "toc_section_display": true,
   "toc_window_display": false
  }
 },
 "nbformat": 4,
 "nbformat_minor": 2
}
