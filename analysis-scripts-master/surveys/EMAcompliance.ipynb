{
 "cells": [
  {
   "cell_type": "code",
   "execution_count": 1,
   "metadata": {},
   "outputs": [],
   "source": [
    "import pandas as pd"
   ]
  },
  {
   "cell_type": "code",
   "execution_count": 4,
   "metadata": {},
   "outputs": [],
   "source": [
    "participants_file = '/Users/yasaman/Dropbox/UW/Make4All/UWEXP Phase II/EMA/compliance/participants.csv'\n",
    "database_file = '/Users/yasaman/Dropbox/UW/Make4All/UWEXP Phase II/EMA/compliance/database.csv'\n",
    "qualtrics_file = '/Users/yasaman/Dropbox/UW/Make4All/UWEXP Phase II/EMA/compliance/qualtrics.csv'\n",
    "complinace_file = '/Users/yasaman/Dropbox/UW/Make4All/UWEXP Phase II/EMA/compliance/compliance.csv'\n",
    "survey_date = '2019-04-14'\n",
    "survey_start = '10am'\n",
    "survey_end = '10pm'"
   ]
  },
  {
   "cell_type": "code",
   "execution_count": 5,
   "metadata": {},
   "outputs": [],
   "source": [
    "participants = pd.read_csv(participants_file)\n",
    "database = pd.read_csv(database_file)\n",
    "qualtrics = pd.read_csv(qualtrics_file, header=0, skiprows=[1])"
   ]
  },
  {
   "cell_type": "code",
   "execution_count": 6,
   "metadata": {},
   "outputs": [],
   "source": [
    "# identify active PID's with no device ID\n",
    "participants.loc[(~participants['PID'].isin(database['PID'])) & (participants['Status'] == 'ACTIVE'), 'Status'] = 'NO DEVICE_ID'"
   ]
  },
  {
   "cell_type": "code",
   "execution_count": 7,
   "metadata": {},
   "outputs": [],
   "source": [
    "# convert start and end information to datetime objects\n",
    "qualtrics[['startDate', 'endDate']] = qualtrics[['startDate', 'endDate']].apply(pd.to_datetime)"
   ]
  },
  {
   "cell_type": "code",
   "execution_count": 8,
   "metadata": {},
   "outputs": [],
   "source": [
    "# obtain the responses valid for this survey\n",
    "from_ = pd.to_datetime(survey_date + ' ' +survey_start)\n",
    "to_ = pd.to_datetime(survey_date + ' ' +survey_end)\n",
    "\n",
    "valid = (qualtrics['startDate'] >= from_) & (qualtrics['endDate'] <= to_) \n",
    "valid_responses = qualtrics[valid][['startDate', 'endDate', 'device_id']]"
   ]
  },
  {
   "cell_type": "code",
   "execution_count": 9,
   "metadata": {},
   "outputs": [
    {
     "data": {
      "text/plain": [
       "device_id\n",
       "3fc70ec4-ec42-4e3b-a772-313fa25d7531    2\n",
       "56941fb4-9b18-46d0-86b5-42bb7a35439d    2\n",
       "815db9c4-a652-4b03-8f16-5facdc81bcdd    2\n",
       "a65c7f97-21e0-463f-9a76-bfc559b620c5    2\n",
       "c7d3d0cf-e58e-403b-a8bd-1b461ae4ee5b    2\n",
       "cbdb8590-f055-450d-82ab-f6c3ff7ad2e4    2\n",
       "f9e4f7af-34a0-45dd-bf51-88aea9ff81c1    2\n",
       "dtype: int64"
      ]
     },
     "execution_count": 9,
     "metadata": {},
     "output_type": "execute_result"
    }
   ],
   "source": [
    "num_resps = valid_responses.groupby(by=['device_id']).size()\n",
    "num_resps[num_resps > 1]"
   ]
  },
  {
   "cell_type": "code",
   "execution_count": null,
   "metadata": {},
   "outputs": [],
   "source": [
    "# TO-DO remove near empty respnses"
   ]
  },
  {
   "cell_type": "code",
   "execution_count": 10,
   "metadata": {},
   "outputs": [],
   "source": [
    "valid_responses = valid_responses.groupby(by=['device_id']).first().reset_index()"
   ]
  },
  {
   "cell_type": "code",
   "execution_count": 11,
   "metadata": {},
   "outputs": [],
   "source": [
    "# obtain the PID for valid responses\n",
    "pids = pd.merge(valid_responses, database, on = 'device_id', how='left')[['device_id', 'PID']].sort_values(by=['PID'])"
   ]
  },
  {
   "cell_type": "code",
   "execution_count": 12,
   "metadata": {},
   "outputs": [],
   "source": [
    "status = pd.merge(participants, pids, on='PID', how='left')\n"
   ]
  },
  {
   "cell_type": "code",
   "execution_count": 13,
   "metadata": {},
   "outputs": [],
   "source": [
    "status.loc[(status['Status'] == 'ACTIVE') & (status['device_id'].isnull()), 'Status'] = 'MISSING'"
   ]
  },
  {
   "cell_type": "code",
   "execution_count": 14,
   "metadata": {},
   "outputs": [],
   "source": [
    "status.loc[(status['Status'] == 'NO DEVICE_ID') | (status['Status'] == 'MISSING'), survey_date] = 'missing'\n",
    "status.loc[(status['Status'] == 'DROPPED') , survey_date] = 'DROPPED'"
   ]
  },
  {
   "cell_type": "code",
   "execution_count": 15,
   "metadata": {},
   "outputs": [],
   "source": [
    "status.to_csv(complinace_file, index=False)"
   ]
  },
  {
   "cell_type": "code",
   "execution_count": null,
   "metadata": {},
   "outputs": [],
   "source": []
  }
 ],
 "metadata": {
  "kernelspec": {
   "display_name": "Python 3",
   "language": "python",
   "name": "python3"
  },
  "language_info": {
   "codemirror_mode": {
    "name": "ipython",
    "version": 3
   },
   "file_extension": ".py",
   "mimetype": "text/x-python",
   "name": "python",
   "nbconvert_exporter": "python",
   "pygments_lexer": "ipython3",
   "version": "3.6.8"
  },
  "toc": {
   "base_numbering": 1,
   "nav_menu": {},
   "number_sections": true,
   "sideBar": true,
   "skip_h1_title": false,
   "title_cell": "Table of Contents",
   "title_sidebar": "Contents",
   "toc_cell": false,
   "toc_position": {},
   "toc_section_display": true,
   "toc_window_display": false
  }
 },
 "nbformat": 4,
 "nbformat_minor": 2
}
